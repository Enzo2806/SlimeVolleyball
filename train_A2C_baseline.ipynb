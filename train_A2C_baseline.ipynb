{
 "cells": [
  {
   "cell_type": "code",
   "execution_count": 1,
   "metadata": {},
   "outputs": [
    {
     "name": "stderr",
     "output_type": "stream",
     "text": [
      "c:\\Users\\Admin\\Desktop\\579final\\SlimeVolleyball\\SlimeVolleyball\\.venv\\lib\\site-packages\\tqdm\\auto.py:21: TqdmWarning: IProgress not found. Please update jupyter and ipywidgets. See https://ipywidgets.readthedocs.io/en/stable/user_install.html\n",
      "  from .autonotebook import tqdm as notebook_tqdm\n"
     ]
    }
   ],
   "source": [
    "import slimevolleygym\n",
    "from Models.A2C.A2C_Agent import A2C_Agent\n",
    "import torch\n",
    "from tqdm.auto import tqdm\n",
    "from torch.utils.tensorboard import SummaryWriter\n",
    "from datetime import datetime\n",
    "from slimevolleygym import BaselinePolicy\n",
    "import numpy as np\n",
    "from utils import convert_to_vector, convert_to_value\n",
    "import types\n",
    "from IPython.display import clear_output"
   ]
  },
  {
   "cell_type": "code",
   "execution_count": 2,
   "metadata": {},
   "outputs": [
    {
     "name": "stdout",
     "output_type": "stream",
     "text": [
      "Action space: 3\n",
      "Observation space: (12,)\n"
     ]
    }
   ],
   "source": [
    "env = slimevolleygym.SlimeVolleyEnv()\n",
    "print(f\"Action space: {env.action_space.n}\")\n",
    "print(f\"Observation space: {env.observation_space.shape}\")\n",
    "env.close()"
   ]
  },
  {
   "cell_type": "code",
   "execution_count": 3,
   "metadata": {},
   "outputs": [
    {
     "name": "stdout",
     "output_type": "stream",
     "text": [
      "Device used:  cpu\n"
     ]
    }
   ],
   "source": [
    "DEVICE = torch.device('cuda:0' if torch.cuda.is_available() else 'mps' if torch.backends.mps.is_available() else 'cpu')\n",
    "\n",
    "# Print the device as a check\n",
    "print(\"Device used: \", DEVICE)"
   ]
  },
  {
   "cell_type": "code",
   "execution_count": 4,
   "metadata": {},
   "outputs": [],
   "source": [
    "# Hyperparameters\n",
    "timesteps_per_batch = 4096    # Number of timesteps to run per batch\n",
    "n_updates_per_iteration = 10  # Number of times to update actor/critic per iteration\n",
    "lr_choices = [3e-4]           # Learning rate of both actor and critic optimizers\n",
    "eps = 1e-5                    # Adam optimizer epsilon\n",
    "gamma = 0.99                  # Discount factor to be applied when calculating Rewards-To-Go\n",
    "clip = 0.2                    # Recommended 0.2, helps define the threshold to clip the ratio during SGA\n",
    "lam = 0.95                    # Lambda Parameter for GAE \n",
    "num_minibatches = 6           # Number of mini-batches for Mini-batch Update\n",
    "ent_coef = 0                  # Entropy coefficient for Entropy Regularization\n",
    "target_kl = 0.03              # KL Divergence threshold\n",
    "max_grad_norm = 0.5           # Gradient Clipping threshold\n",
    "mlp_layers = [64, 64]         # Number of neurons in each layer of the MLP\n",
    "render = False                # Whether to render the environment\n",
    "\n",
    "# Custom parameters\n",
    "seed = 42\n",
    "max_num_steps = 20000000\n",
    "num_test_runs_vs_baseline = 50\n",
    "num_test_runs_vs_random = 10\n",
    "num_iterations_before_test_runs = 150\n",
    "num_iterations_before_save = 100"
   ]
  },
  {
   "cell_type": "code",
   "execution_count": 5,
   "metadata": {},
   "outputs": [],
   "source": [
    "\n",
    "def evaluate(env, agent1, num_eval_episodes, agent2=\"random\"):\n",
    "\n",
    "    \n",
    "    agent1.evaluation_mode()\n",
    "    \n",
    "\n",
    "    total_return = 0\n",
    "    for _ in range(num_eval_episodes):\n",
    "\n",
    "        state1 = env.reset()\n",
    "        state2 = state1\n",
    "        done = False\n",
    "        while not done:\n",
    "            \n",
    "            with torch.no_grad():\n",
    "\n",
    "              \n",
    "                action1, _ = agent1.select_action(state1, greedy=True)\n",
    "\n",
    "                if agent2 == \"random\":\n",
    "                    action2 = convert_to_value(env.action_space.sample())\n",
    "                else:\n",
    "                    action2, _ = agent2.select_action(state2)\n",
    "            \n",
    "            \n",
    "            next_state1, reward, done, info = env.step(convert_to_vector(action1), otherAction=convert_to_vector(action2))\n",
    "            next_state2 = info['otherObs']\n",
    "            \n",
    "          \n",
    "            total_return += reward\n",
    "\n",
    "          \n",
    "            state1 = next_state1\n",
    "            state2 = next_state2\n",
    "    \n",
    "\n",
    "    agent1.training_mode()\n",
    "\n",
    "\n",
    "    return total_return / num_eval_episodes"
   ]
  },
  {
   "cell_type": "code",
   "execution_count": 6,
   "metadata": {},
   "outputs": [],
   "source": [
    "def train_a2c(env, agent1, timesteps_per_actor, lr, eps, gamma, lam, ent_coef, max_grad_norm, seed, max_num_steps, \n",
    "              num_test_runs_vs_baseline, num_iterations_before_test_runs, num_iterations_before_save, \n",
    "              num_test_runs_vs_random, writer, logging_dir, mlp_layers, render, HP_string, timesteps_per_batch):\n",
    "    \n",
    "    torch.manual_seed(seed)\n",
    "    np.random.seed(seed)\n",
    "    env.seed(seed)\n",
    "    \n",
    "  \n",
    "    \n",
    "    agent2 = BaselinePolicy()  \n",
    "    def select_action(self, state, greedy=False):\n",
    "        action = self.predict(state)\n",
    "        return convert_to_value(action), None\n",
    "    agent2.select_action = types.MethodType(select_action, agent2)\n",
    "    \n",
    "    n_steps = 0\n",
    "    i = 0  \n",
    "    \n",
    "    while n_steps < max_num_steps:\n",
    "        clear_output(wait=True)\n",
    "        print(f\"{HP_string} Training step {n_steps}/{max_num_steps} ({n_steps/max_num_steps*100:.2f}%)\")\n",
    "        \n",
    "        #batch_obs, batch_acts, batch_log_probs, batch_rews, batch_vals, batch_dones = agent1.gather_data(env, agent2)\n",
    "        batch_obs, batch_acts, batch_log_probs, batch_rews, batch_lens, batch_vals, batch_dones = agent1.gather_data(env, agent2)\n",
    "       \n",
    "        agent1.learn(batch_obs=batch_obs,\n",
    "                     batch_acts=batch_acts,\n",
    "                     batch_log_probs=batch_log_probs,  \n",
    "                     batch_rews=batch_rews, \n",
    "                     batch_vals=batch_vals, \n",
    "                     batch_dones=batch_dones,\n",
    "                     writer=writer,\n",
    "                     n_steps_so_far=n_steps)\n",
    "        \n",
    "        \n",
    "        #n_steps += timesteps_per_actor  \n",
    "        n_steps += np.sum(batch_lens)\n",
    "       \n",
    "        if (i + 1) % num_iterations_before_test_runs == 0:\n",
    "            average_test_return_baseline = evaluate(env, agent1, num_test_runs_vs_baseline, agent2)\n",
    "            writer.add_scalar(\"Evaluation/Average baseline test return\", average_test_return_baseline, n_steps)\n",
    "            \n",
    "            average_test_return_random = evaluate(env, agent1, num_test_runs_vs_random, \"random\")\n",
    "            writer.add_scalar(\"Evaluation/Average random test return\", average_test_return_random, n_steps)\n",
    "        \n",
    "        \n",
    "        if (i + 1) % num_iterations_before_save == 0:\n",
    "            agent1.save_models(logging_dir, 1, n_steps)\n",
    "        \n",
    "        writer.flush()\n",
    "        i += 1  \n",
    "    \n",
    "    \n",
    "    agent1.save_models(logging_dir, 1, n_steps)\n",
    "    writer.close()\n"
   ]
  },
  {
   "cell_type": "code",
   "execution_count": 7,
   "metadata": {},
   "outputs": [
    {
     "name": "stdout",
     "output_type": "stream",
     "text": [
      "0) LR: 0.0003, Ent_Coef: 0, Layers: 64, MaxGradNorm: 0.5 Training step 70165/20000000 (0.35%)\n"
     ]
    },
    {
     "name": "stderr",
     "output_type": "stream",
     "text": [
      "Exception in thread Thread-5:\n",
      "Traceback (most recent call last):\n",
      "  File \"c:\\Users\\Admin\\Desktop\\579final\\SlimeVolleyball\\SlimeVolleyball\\.venv\\lib\\site-packages\\IPython\\core\\interactiveshell.py\", line 3577, in run_code\n",
      "    exec(code_obj, self.user_global_ns, self.user_ns)\n",
      "  File \"C:\\Users\\Admin\\AppData\\Local\\Temp\\ipykernel_7788\\3893934939.py\", line 28, in <module>\n",
      "  File \"C:\\Users\\Admin\\AppData\\Local\\Temp\\ipykernel_7788\\2665278339.py\", line 51, in train_a2c\n",
      "  File \"c:\\Users\\Admin\\Desktop\\579final\\SlimeVolleyball\\SlimeVolleyball\\.venv\\lib\\site-packages\\torch\\utils\\tensorboard\\writer.py\", line 1256, in flush\n",
      "    writer.flush()\n",
      "  File \"c:\\Users\\Admin\\Desktop\\579final\\SlimeVolleyball\\SlimeVolleyball\\.venv\\lib\\site-packages\\torch\\utils\\tensorboard\\writer.py\", line 152, in flush\n",
      "    self.event_writer.flush()\n",
      "  File \"c:\\Users\\Admin\\Desktop\\579final\\SlimeVolleyball\\SlimeVolleyball\\.venv\\lib\\site-packages\\tensorboard\\summary\\writer\\event_file_writer.py\", line 125, in flush\n",
      "    self._async_writer.flush()\n",
      "  File \"c:\\Users\\Admin\\Desktop\\579final\\SlimeVolleyball\\SlimeVolleyball\\.venv\\lib\\site-packages\\tensorboard\\summary\\writer\\event_file_writer.py\", line 194, in flush\n",
      "    self._check_worker_status()\n",
      "  File \"c:\\Users\\Admin\\Desktop\\579final\\SlimeVolleyball\\SlimeVolleyball\\.venv\\lib\\site-packages\\tensorboard\\summary\\writer\\event_file_writer.py\", line 212, in _check_worker_status\n",
      "    raise exception\n",
      "  File \"C:\\Users\\Admin\\AppData\\Local\\Programs\\Python\\Python310\\lib\\threading.py\", line 1009, in _bootstrap_inner\n",
      "    self.run()\n",
      "  File \"c:\\Users\\Admin\\Desktop\\579final\\SlimeVolleyball\\SlimeVolleyball\\.venv\\lib\\site-packages\\tensorboard\\summary\\writer\\event_file_writer.py\", line 244, in run\n",
      "    self._run()\n",
      "  File \"c:\\Users\\Admin\\Desktop\\579final\\SlimeVolleyball\\SlimeVolleyball\\.venv\\lib\\site-packages\\tensorboard\\summary\\writer\\event_file_writer.py\", line 269, in _run\n",
      "    data = self._queue.get(True, queue_wait_duration)\n",
      "  File \"C:\\Users\\Admin\\AppData\\Local\\Programs\\Python\\Python310\\lib\\queue.py\", line 180, in get\n",
      "    self.not_empty.wait(remaining)\n",
      "  File \"C:\\Users\\Admin\\AppData\\Local\\Programs\\Python\\Python310\\lib\\threading.py\", line 324, in wait\n",
      "    gotit = waiter.acquire(True, timeout)\n",
      "OverflowError: timeout value is too large\n"
     ]
    },
    {
     "ename": "OverflowError",
     "evalue": "timeout value is too large",
     "output_type": "error",
     "traceback": [
      "\u001b[1;31m---------------------------------------------------------------------------\u001b[0m",
      "\u001b[1;31mOverflowError\u001b[0m                             Traceback (most recent call last)",
      "Cell \u001b[1;32mIn[7], line 28\u001b[0m\n\u001b[0;32m      9\u001b[0m writer \u001b[38;5;241m=\u001b[39m SummaryWriter(logging_dir)\n\u001b[0;32m     12\u001b[0m agent \u001b[38;5;241m=\u001b[39m A2C_Agent(obs_dim\u001b[38;5;241m=\u001b[39menv\u001b[38;5;241m.\u001b[39mobservation_space\u001b[38;5;241m.\u001b[39mshape[\u001b[38;5;241m0\u001b[39m], \n\u001b[0;32m     13\u001b[0m                   act_dim\u001b[38;5;241m=\u001b[39menv\u001b[38;5;241m.\u001b[39maction_space\u001b[38;5;241m.\u001b[39mn, \n\u001b[0;32m     14\u001b[0m                   DEVICE\u001b[38;5;241m=\u001b[39mDEVICE, \n\u001b[1;32m   (...)\u001b[0m\n\u001b[0;32m     24\u001b[0m                   render\u001b[38;5;241m=\u001b[39mrender,\n\u001b[0;32m     25\u001b[0m                   timesteps_per_batch\u001b[38;5;241m=\u001b[39mtimesteps_per_batch)\n\u001b[1;32m---> 28\u001b[0m \u001b[43mtrain_a2c\u001b[49m\u001b[43m(\u001b[49m\u001b[43menv\u001b[49m\u001b[38;5;241;43m=\u001b[39;49m\u001b[43menv\u001b[49m\u001b[43m,\u001b[49m\n\u001b[0;32m     29\u001b[0m \u001b[43m          \u001b[49m\u001b[43magent1\u001b[49m\u001b[38;5;241;43m=\u001b[39;49m\u001b[43magent\u001b[49m\u001b[43m,\u001b[49m\u001b[43m \u001b[49m\n\u001b[0;32m     30\u001b[0m \u001b[43m          \u001b[49m\u001b[43mtimesteps_per_actor\u001b[49m\u001b[38;5;241;43m=\u001b[39;49m\u001b[43mtimesteps_per_batch\u001b[49m\u001b[43m,\u001b[49m\u001b[43m \u001b[49m\n\u001b[0;32m     31\u001b[0m \u001b[43m          \u001b[49m\u001b[43mlr\u001b[49m\u001b[38;5;241;43m=\u001b[39;49m\u001b[43mlr\u001b[49m\u001b[43m,\u001b[49m\u001b[43m \u001b[49m\n\u001b[0;32m     32\u001b[0m \u001b[43m          \u001b[49m\u001b[43meps\u001b[49m\u001b[38;5;241;43m=\u001b[39;49m\u001b[43meps\u001b[49m\u001b[43m,\u001b[49m\u001b[43m \u001b[49m\n\u001b[0;32m     33\u001b[0m \u001b[43m          \u001b[49m\u001b[43mgamma\u001b[49m\u001b[38;5;241;43m=\u001b[39;49m\u001b[43mgamma\u001b[49m\u001b[43m,\u001b[49m\u001b[43m \u001b[49m\n\u001b[0;32m     34\u001b[0m \u001b[43m          \u001b[49m\u001b[43mlam\u001b[49m\u001b[38;5;241;43m=\u001b[39;49m\u001b[43mlam\u001b[49m\u001b[43m,\u001b[49m\u001b[43m \u001b[49m\n\u001b[0;32m     35\u001b[0m \u001b[43m          \u001b[49m\u001b[43ment_coef\u001b[49m\u001b[38;5;241;43m=\u001b[39;49m\u001b[43ment_coef\u001b[49m\u001b[43m,\u001b[49m\u001b[43m \u001b[49m\n\u001b[0;32m     36\u001b[0m \u001b[43m          \u001b[49m\u001b[43mmax_grad_norm\u001b[49m\u001b[38;5;241;43m=\u001b[39;49m\u001b[43mmax_grad_norm\u001b[49m\u001b[43m,\u001b[49m\u001b[43m \u001b[49m\n\u001b[0;32m     37\u001b[0m \u001b[43m          \u001b[49m\u001b[43mseed\u001b[49m\u001b[38;5;241;43m=\u001b[39;49m\u001b[43mseed\u001b[49m\u001b[43m,\u001b[49m\u001b[43m \u001b[49m\n\u001b[0;32m     38\u001b[0m \u001b[43m          \u001b[49m\u001b[43mmax_num_steps\u001b[49m\u001b[38;5;241;43m=\u001b[39;49m\u001b[43mmax_num_steps\u001b[49m\u001b[43m,\u001b[49m\u001b[43m \u001b[49m\n\u001b[0;32m     39\u001b[0m \u001b[43m          \u001b[49m\u001b[43mnum_test_runs_vs_baseline\u001b[49m\u001b[38;5;241;43m=\u001b[39;49m\u001b[43mnum_test_runs_vs_baseline\u001b[49m\u001b[43m,\u001b[49m\u001b[43m \u001b[49m\n\u001b[0;32m     40\u001b[0m \u001b[43m          \u001b[49m\u001b[43mnum_iterations_before_test_runs\u001b[49m\u001b[38;5;241;43m=\u001b[39;49m\u001b[43mnum_iterations_before_test_runs\u001b[49m\u001b[43m,\u001b[49m\u001b[43m \u001b[49m\n\u001b[0;32m     41\u001b[0m \u001b[43m          \u001b[49m\u001b[43mnum_iterations_before_save\u001b[49m\u001b[38;5;241;43m=\u001b[39;49m\u001b[43mnum_iterations_before_save\u001b[49m\u001b[43m,\u001b[49m\u001b[43m \u001b[49m\n\u001b[0;32m     42\u001b[0m \u001b[43m          \u001b[49m\u001b[43mnum_test_runs_vs_random\u001b[49m\u001b[38;5;241;43m=\u001b[39;49m\u001b[43mnum_test_runs_vs_random\u001b[49m\u001b[43m,\u001b[49m\u001b[43m \u001b[49m\n\u001b[0;32m     43\u001b[0m \u001b[43m          \u001b[49m\u001b[43mwriter\u001b[49m\u001b[38;5;241;43m=\u001b[39;49m\u001b[43mwriter\u001b[49m\u001b[43m,\u001b[49m\u001b[43m \u001b[49m\n\u001b[0;32m     44\u001b[0m \u001b[43m          \u001b[49m\u001b[43mlogging_dir\u001b[49m\u001b[38;5;241;43m=\u001b[39;49m\u001b[43mlogging_dir\u001b[49m\u001b[43m,\u001b[49m\u001b[43m \u001b[49m\n\u001b[0;32m     45\u001b[0m \u001b[43m          \u001b[49m\u001b[43mmlp_layers\u001b[49m\u001b[38;5;241;43m=\u001b[39;49m\u001b[43mmlp_layers\u001b[49m\u001b[43m,\u001b[49m\u001b[43m \u001b[49m\n\u001b[0;32m     46\u001b[0m \u001b[43m          \u001b[49m\u001b[43mrender\u001b[49m\u001b[38;5;241;43m=\u001b[39;49m\u001b[43mrender\u001b[49m\u001b[43m,\u001b[49m\u001b[43m \u001b[49m\n\u001b[0;32m     47\u001b[0m \u001b[43m          \u001b[49m\u001b[43mHP_string\u001b[49m\u001b[38;5;241;43m=\u001b[39;49m\u001b[43mHP_string\u001b[49m\u001b[43m,\u001b[49m\n\u001b[0;32m     48\u001b[0m \u001b[43m          \u001b[49m\u001b[43mtimesteps_per_batch\u001b[49m\u001b[38;5;241;43m=\u001b[39;49m\u001b[43mtimesteps_per_batch\u001b[49m\u001b[43m)\u001b[49m\n\u001b[0;32m     51\u001b[0m writer\u001b[38;5;241m.\u001b[39mclose()\n",
      "Cell \u001b[1;32mIn[6], line 51\u001b[0m, in \u001b[0;36mtrain_a2c\u001b[1;34m(env, agent1, timesteps_per_actor, lr, eps, gamma, lam, ent_coef, max_grad_norm, seed, max_num_steps, num_test_runs_vs_baseline, num_iterations_before_test_runs, num_iterations_before_save, num_test_runs_vs_random, writer, logging_dir, mlp_layers, render, HP_string, timesteps_per_batch)\u001b[0m\n\u001b[0;32m     48\u001b[0m     \u001b[38;5;28;01mif\u001b[39;00m (i \u001b[38;5;241m+\u001b[39m \u001b[38;5;241m1\u001b[39m) \u001b[38;5;241m%\u001b[39m num_iterations_before_save \u001b[38;5;241m==\u001b[39m \u001b[38;5;241m0\u001b[39m:\n\u001b[0;32m     49\u001b[0m         agent1\u001b[38;5;241m.\u001b[39msave_models(logging_dir, \u001b[38;5;241m1\u001b[39m, n_steps)\n\u001b[1;32m---> 51\u001b[0m     \u001b[43mwriter\u001b[49m\u001b[38;5;241;43m.\u001b[39;49m\u001b[43mflush\u001b[49m\u001b[43m(\u001b[49m\u001b[43m)\u001b[49m\n\u001b[0;32m     52\u001b[0m     i \u001b[38;5;241m+\u001b[39m\u001b[38;5;241m=\u001b[39m \u001b[38;5;241m1\u001b[39m  \n\u001b[0;32m     55\u001b[0m agent1\u001b[38;5;241m.\u001b[39msave_models(logging_dir, \u001b[38;5;241m1\u001b[39m, n_steps)\n",
      "File \u001b[1;32mc:\\Users\\Admin\\Desktop\\579final\\SlimeVolleyball\\SlimeVolleyball\\.venv\\lib\\site-packages\\torch\\utils\\tensorboard\\writer.py:1256\u001b[0m, in \u001b[0;36mSummaryWriter.flush\u001b[1;34m(self)\u001b[0m\n\u001b[0;32m   1254\u001b[0m     \u001b[38;5;28;01mreturn\u001b[39;00m\n\u001b[0;32m   1255\u001b[0m \u001b[38;5;28;01mfor\u001b[39;00m writer \u001b[38;5;129;01min\u001b[39;00m \u001b[38;5;28mself\u001b[39m\u001b[38;5;241m.\u001b[39mall_writers\u001b[38;5;241m.\u001b[39mvalues():\n\u001b[1;32m-> 1256\u001b[0m     \u001b[43mwriter\u001b[49m\u001b[38;5;241;43m.\u001b[39;49m\u001b[43mflush\u001b[49m\u001b[43m(\u001b[49m\u001b[43m)\u001b[49m\n",
      "File \u001b[1;32mc:\\Users\\Admin\\Desktop\\579final\\SlimeVolleyball\\SlimeVolleyball\\.venv\\lib\\site-packages\\torch\\utils\\tensorboard\\writer.py:152\u001b[0m, in \u001b[0;36mFileWriter.flush\u001b[1;34m(self)\u001b[0m\n\u001b[0;32m    146\u001b[0m \u001b[38;5;28;01mdef\u001b[39;00m \u001b[38;5;21mflush\u001b[39m(\u001b[38;5;28mself\u001b[39m):\n\u001b[0;32m    147\u001b[0m \u001b[38;5;250m    \u001b[39m\u001b[38;5;124;03m\"\"\"Flushes the event file to disk.\u001b[39;00m\n\u001b[0;32m    148\u001b[0m \n\u001b[0;32m    149\u001b[0m \u001b[38;5;124;03m    Call this method to make sure that all pending events have been written to\u001b[39;00m\n\u001b[0;32m    150\u001b[0m \u001b[38;5;124;03m    disk.\u001b[39;00m\n\u001b[0;32m    151\u001b[0m \u001b[38;5;124;03m    \"\"\"\u001b[39;00m\n\u001b[1;32m--> 152\u001b[0m     \u001b[38;5;28;43mself\u001b[39;49m\u001b[38;5;241;43m.\u001b[39;49m\u001b[43mevent_writer\u001b[49m\u001b[38;5;241;43m.\u001b[39;49m\u001b[43mflush\u001b[49m\u001b[43m(\u001b[49m\u001b[43m)\u001b[49m\n",
      "File \u001b[1;32mc:\\Users\\Admin\\Desktop\\579final\\SlimeVolleyball\\SlimeVolleyball\\.venv\\lib\\site-packages\\tensorboard\\summary\\writer\\event_file_writer.py:125\u001b[0m, in \u001b[0;36mEventFileWriter.flush\u001b[1;34m(self)\u001b[0m\n\u001b[0;32m    119\u001b[0m \u001b[38;5;28;01mdef\u001b[39;00m \u001b[38;5;21mflush\u001b[39m(\u001b[38;5;28mself\u001b[39m):\n\u001b[0;32m    120\u001b[0m \u001b[38;5;250m    \u001b[39m\u001b[38;5;124;03m\"\"\"Flushes the event file to disk.\u001b[39;00m\n\u001b[0;32m    121\u001b[0m \n\u001b[0;32m    122\u001b[0m \u001b[38;5;124;03m    Call this method to make sure that all pending events have been\u001b[39;00m\n\u001b[0;32m    123\u001b[0m \u001b[38;5;124;03m    written to disk.\u001b[39;00m\n\u001b[0;32m    124\u001b[0m \u001b[38;5;124;03m    \"\"\"\u001b[39;00m\n\u001b[1;32m--> 125\u001b[0m     \u001b[38;5;28;43mself\u001b[39;49m\u001b[38;5;241;43m.\u001b[39;49m\u001b[43m_async_writer\u001b[49m\u001b[38;5;241;43m.\u001b[39;49m\u001b[43mflush\u001b[49m\u001b[43m(\u001b[49m\u001b[43m)\u001b[49m\n",
      "File \u001b[1;32mc:\\Users\\Admin\\Desktop\\579final\\SlimeVolleyball\\SlimeVolleyball\\.venv\\lib\\site-packages\\tensorboard\\summary\\writer\\event_file_writer.py:194\u001b[0m, in \u001b[0;36m_AsyncWriter.flush\u001b[1;34m(self)\u001b[0m\n\u001b[0;32m    190\u001b[0m \u001b[38;5;28mself\u001b[39m\u001b[38;5;241m.\u001b[39m_writer\u001b[38;5;241m.\u001b[39mflush()\n\u001b[0;32m    191\u001b[0m \u001b[38;5;66;03m# Check the status again in case the background worker thread has\u001b[39;00m\n\u001b[0;32m    192\u001b[0m \u001b[38;5;66;03m# failed in the meantime to avoid waiting until the next call to\u001b[39;00m\n\u001b[0;32m    193\u001b[0m \u001b[38;5;66;03m# surface the error.\u001b[39;00m\n\u001b[1;32m--> 194\u001b[0m \u001b[38;5;28;43mself\u001b[39;49m\u001b[38;5;241;43m.\u001b[39;49m\u001b[43m_check_worker_status\u001b[49m\u001b[43m(\u001b[49m\u001b[43m)\u001b[49m\n",
      "File \u001b[1;32mc:\\Users\\Admin\\Desktop\\579final\\SlimeVolleyball\\SlimeVolleyball\\.venv\\lib\\site-packages\\tensorboard\\summary\\writer\\event_file_writer.py:212\u001b[0m, in \u001b[0;36m_AsyncWriter._check_worker_status\u001b[1;34m(self)\u001b[0m\n\u001b[0;32m    210\u001b[0m exception \u001b[38;5;241m=\u001b[39m \u001b[38;5;28mself\u001b[39m\u001b[38;5;241m.\u001b[39m_worker\u001b[38;5;241m.\u001b[39mexception\n\u001b[0;32m    211\u001b[0m \u001b[38;5;28;01mif\u001b[39;00m exception \u001b[38;5;129;01mis\u001b[39;00m \u001b[38;5;129;01mnot\u001b[39;00m \u001b[38;5;28;01mNone\u001b[39;00m:\n\u001b[1;32m--> 212\u001b[0m     \u001b[38;5;28;01mraise\u001b[39;00m exception\n",
      "File \u001b[1;32m~\\AppData\\Local\\Programs\\Python\\Python310\\lib\\threading.py:1009\u001b[0m, in \u001b[0;36mThread._bootstrap_inner\u001b[1;34m(self)\u001b[0m\n\u001b[0;32m   1006\u001b[0m     _sys\u001b[38;5;241m.\u001b[39msetprofile(_profile_hook)\n\u001b[0;32m   1008\u001b[0m \u001b[38;5;28;01mtry\u001b[39;00m:\n\u001b[1;32m-> 1009\u001b[0m     \u001b[38;5;28;43mself\u001b[39;49m\u001b[38;5;241;43m.\u001b[39;49m\u001b[43mrun\u001b[49m\u001b[43m(\u001b[49m\u001b[43m)\u001b[49m\n\u001b[0;32m   1010\u001b[0m \u001b[38;5;28;01mexcept\u001b[39;00m:\n\u001b[0;32m   1011\u001b[0m     \u001b[38;5;28mself\u001b[39m\u001b[38;5;241m.\u001b[39m_invoke_excepthook(\u001b[38;5;28mself\u001b[39m)\n",
      "File \u001b[1;32mc:\\Users\\Admin\\Desktop\\579final\\SlimeVolleyball\\SlimeVolleyball\\.venv\\lib\\site-packages\\tensorboard\\summary\\writer\\event_file_writer.py:244\u001b[0m, in \u001b[0;36m_AsyncWriterThread.run\u001b[1;34m(self)\u001b[0m\n\u001b[0;32m    242\u001b[0m \u001b[38;5;28;01mdef\u001b[39;00m \u001b[38;5;21mrun\u001b[39m(\u001b[38;5;28mself\u001b[39m):\n\u001b[0;32m    243\u001b[0m     \u001b[38;5;28;01mtry\u001b[39;00m:\n\u001b[1;32m--> 244\u001b[0m         \u001b[38;5;28;43mself\u001b[39;49m\u001b[38;5;241;43m.\u001b[39;49m\u001b[43m_run\u001b[49m\u001b[43m(\u001b[49m\u001b[43m)\u001b[49m\n\u001b[0;32m    245\u001b[0m     \u001b[38;5;28;01mexcept\u001b[39;00m \u001b[38;5;167;01mException\u001b[39;00m \u001b[38;5;28;01mas\u001b[39;00m ex:\n\u001b[0;32m    246\u001b[0m         \u001b[38;5;28mself\u001b[39m\u001b[38;5;241m.\u001b[39mexception \u001b[38;5;241m=\u001b[39m ex\n",
      "File \u001b[1;32mc:\\Users\\Admin\\Desktop\\579final\\SlimeVolleyball\\SlimeVolleyball\\.venv\\lib\\site-packages\\tensorboard\\summary\\writer\\event_file_writer.py:269\u001b[0m, in \u001b[0;36m_AsyncWriterThread._run\u001b[1;34m(self)\u001b[0m\n\u001b[0;32m    267\u001b[0m \u001b[38;5;28;01mtry\u001b[39;00m:\n\u001b[0;32m    268\u001b[0m     \u001b[38;5;28;01mif\u001b[39;00m queue_wait_duration \u001b[38;5;241m>\u001b[39m \u001b[38;5;241m0\u001b[39m:\n\u001b[1;32m--> 269\u001b[0m         data \u001b[38;5;241m=\u001b[39m \u001b[38;5;28;43mself\u001b[39;49m\u001b[38;5;241;43m.\u001b[39;49m\u001b[43m_queue\u001b[49m\u001b[38;5;241;43m.\u001b[39;49m\u001b[43mget\u001b[49m\u001b[43m(\u001b[49m\u001b[38;5;28;43;01mTrue\u001b[39;49;00m\u001b[43m,\u001b[49m\u001b[43m \u001b[49m\u001b[43mqueue_wait_duration\u001b[49m\u001b[43m)\u001b[49m\n\u001b[0;32m    270\u001b[0m     \u001b[38;5;28;01melse\u001b[39;00m:\n\u001b[0;32m    271\u001b[0m         data \u001b[38;5;241m=\u001b[39m \u001b[38;5;28mself\u001b[39m\u001b[38;5;241m.\u001b[39m_queue\u001b[38;5;241m.\u001b[39mget(\u001b[38;5;28;01mFalse\u001b[39;00m)\n",
      "File \u001b[1;32m~\\AppData\\Local\\Programs\\Python\\Python310\\lib\\queue.py:180\u001b[0m, in \u001b[0;36mQueue.get\u001b[1;34m(self, block, timeout)\u001b[0m\n\u001b[0;32m    178\u001b[0m         \u001b[38;5;28;01mif\u001b[39;00m remaining \u001b[38;5;241m<\u001b[39m\u001b[38;5;241m=\u001b[39m \u001b[38;5;241m0.0\u001b[39m:\n\u001b[0;32m    179\u001b[0m             \u001b[38;5;28;01mraise\u001b[39;00m Empty\n\u001b[1;32m--> 180\u001b[0m         \u001b[38;5;28;43mself\u001b[39;49m\u001b[38;5;241;43m.\u001b[39;49m\u001b[43mnot_empty\u001b[49m\u001b[38;5;241;43m.\u001b[39;49m\u001b[43mwait\u001b[49m\u001b[43m(\u001b[49m\u001b[43mremaining\u001b[49m\u001b[43m)\u001b[49m\n\u001b[0;32m    181\u001b[0m item \u001b[38;5;241m=\u001b[39m \u001b[38;5;28mself\u001b[39m\u001b[38;5;241m.\u001b[39m_get()\n\u001b[0;32m    182\u001b[0m \u001b[38;5;28mself\u001b[39m\u001b[38;5;241m.\u001b[39mnot_full\u001b[38;5;241m.\u001b[39mnotify()\n",
      "File \u001b[1;32m~\\AppData\\Local\\Programs\\Python\\Python310\\lib\\threading.py:324\u001b[0m, in \u001b[0;36mCondition.wait\u001b[1;34m(self, timeout)\u001b[0m\n\u001b[0;32m    322\u001b[0m \u001b[38;5;28;01melse\u001b[39;00m:\n\u001b[0;32m    323\u001b[0m     \u001b[38;5;28;01mif\u001b[39;00m timeout \u001b[38;5;241m>\u001b[39m \u001b[38;5;241m0\u001b[39m:\n\u001b[1;32m--> 324\u001b[0m         gotit \u001b[38;5;241m=\u001b[39m \u001b[43mwaiter\u001b[49m\u001b[38;5;241;43m.\u001b[39;49m\u001b[43macquire\u001b[49m\u001b[43m(\u001b[49m\u001b[38;5;28;43;01mTrue\u001b[39;49;00m\u001b[43m,\u001b[49m\u001b[43m \u001b[49m\u001b[43mtimeout\u001b[49m\u001b[43m)\u001b[49m\n\u001b[0;32m    325\u001b[0m     \u001b[38;5;28;01melse\u001b[39;00m:\n\u001b[0;32m    326\u001b[0m         gotit \u001b[38;5;241m=\u001b[39m waiter\u001b[38;5;241m.\u001b[39macquire(\u001b[38;5;28;01mFalse\u001b[39;00m)\n",
      "\u001b[1;31mOverflowError\u001b[0m: timeout value is too large"
     ]
    }
   ],
   "source": [
    "i = 0 \n",
    "\n",
    "for lr in lr_choices:\n",
    "    \n",
    "    HP_string = f\"{i}) LR: {lr}, Ent_Coef: {ent_coef}, Layers: {mlp_layers[0]}, MaxGradNorm: {max_grad_norm}\"\n",
    "\n",
    "    \n",
    "    logging_dir = f\"./Logging/A2C-BASELINE/{datetime.now().strftime('%Y%m%d-%H%M%S')}-lr-{lr}-entcoef-{ent_coef}-mlp-{mlp_layers[0]}-maxgradnorm-{max_grad_norm}\"\n",
    "    writer = SummaryWriter(logging_dir)\n",
    "\n",
    "    \n",
    "    agent = A2C_Agent(obs_dim=env.observation_space.shape[0], \n",
    "                      act_dim=env.action_space.n, \n",
    "                      DEVICE=DEVICE, \n",
    "                      timesteps_per_actor=timesteps_per_batch, \n",
    "                      n_actors=16,  \n",
    "                      lr=lr, \n",
    "                      eps=eps, \n",
    "                      gamma=gamma, \n",
    "                      lam=lam, \n",
    "                      ent_coef=ent_coef, \n",
    "                      max_grad_norm=max_grad_norm, \n",
    "                      mlp_layers=mlp_layers, \n",
    "                      render=render,\n",
    "                      timesteps_per_batch=timesteps_per_batch)\n",
    "\n",
    "    \n",
    "    train_a2c(env=env,\n",
    "              agent1=agent, \n",
    "              timesteps_per_actor=timesteps_per_batch, \n",
    "              lr=lr, \n",
    "              eps=eps, \n",
    "              gamma=gamma, \n",
    "              lam=lam, \n",
    "              ent_coef=ent_coef, \n",
    "              max_grad_norm=max_grad_norm, \n",
    "              seed=seed, \n",
    "              max_num_steps=max_num_steps, \n",
    "              num_test_runs_vs_baseline=num_test_runs_vs_baseline, \n",
    "              num_iterations_before_test_runs=num_iterations_before_test_runs, \n",
    "              num_iterations_before_save=num_iterations_before_save, \n",
    "              num_test_runs_vs_random=num_test_runs_vs_random, \n",
    "              writer=writer, \n",
    "              logging_dir=logging_dir, \n",
    "              mlp_layers=mlp_layers, \n",
    "              render=render, \n",
    "              HP_string=HP_string,\n",
    "              timesteps_per_batch=timesteps_per_batch)\n",
    "\n",
    "   \n",
    "    writer.close()\n",
    "\n",
    "    "
   ]
  }
 ],
 "metadata": {
  "kernelspec": {
   "display_name": ".venv",
   "language": "python",
   "name": "python3"
  },
  "language_info": {
   "codemirror_mode": {
    "name": "ipython",
    "version": 3
   },
   "file_extension": ".py",
   "mimetype": "text/x-python",
   "name": "python",
   "nbconvert_exporter": "python",
   "pygments_lexer": "ipython3",
   "version": "3.10.0"
  }
 },
 "nbformat": 4,
 "nbformat_minor": 2
}
