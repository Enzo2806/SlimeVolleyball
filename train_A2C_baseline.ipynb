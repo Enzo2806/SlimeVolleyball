{
 "cells": [
  {
   "cell_type": "code",
   "execution_count": 1,
   "metadata": {},
   "outputs": [
    {
     "name": "stderr",
     "output_type": "stream",
     "text": [
      "c:\\Users\\Admin\\Desktop\\579final\\SlimeVolleyball\\SlimeVolleyball\\.venv\\lib\\site-packages\\tqdm\\auto.py:21: TqdmWarning: IProgress not found. Please update jupyter and ipywidgets. See https://ipywidgets.readthedocs.io/en/stable/user_install.html\n",
      "  from .autonotebook import tqdm as notebook_tqdm\n"
     ]
    }
   ],
   "source": [
    "import slimevolleygym\n",
    "from Models.A2C.A2C_Agent import A2C_Agent\n",
    "import torch\n",
    "from tqdm.auto import tqdm\n",
    "from torch.utils.tensorboard import SummaryWriter\n",
    "from datetime import datetime\n",
    "from slimevolleygym import BaselinePolicy\n",
    "import numpy as np\n",
    "from utils import convert_to_vector, convert_to_value\n",
    "import types\n",
    "from IPython.display import clear_output"
   ]
  },
  {
   "cell_type": "code",
   "execution_count": 2,
   "metadata": {},
   "outputs": [
    {
     "name": "stdout",
     "output_type": "stream",
     "text": [
      "Action space: 3\n",
      "Observation space: (12,)\n"
     ]
    }
   ],
   "source": [
    "env = slimevolleygym.SlimeVolleyEnv()\n",
    "print(f\"Action space: {env.action_space.n}\")\n",
    "print(f\"Observation space: {env.observation_space.shape}\")\n",
    "env.close()"
   ]
  },
  {
   "cell_type": "code",
   "execution_count": 3,
   "metadata": {},
   "outputs": [
    {
     "name": "stdout",
     "output_type": "stream",
     "text": [
      "Device used:  cpu\n"
     ]
    }
   ],
   "source": [
    "DEVICE = torch.device('cuda:0' if torch.cuda.is_available() else 'mps' if torch.backends.mps.is_available() else 'cpu')\n",
    "\n",
    "# Print the device as a check\n",
    "print(\"Device used: \", DEVICE)"
   ]
  },
  {
   "cell_type": "code",
   "execution_count": 4,
   "metadata": {},
   "outputs": [],
   "source": [
    "# Hyperparameters\n",
    "timesteps_per_batch = 4096    # Number of timesteps to run per batch\n",
    "n_updates_per_iteration = 10  # Number of times to update actor/critic per iteration\n",
    "lr_choices = [3e-4]           # Learning rate of both actor and critic optimizers\n",
    "eps = 1e-5                    # Adam optimizer epsilon\n",
    "gamma = 0.99                  # Discount factor to be applied when calculating Rewards-To-Go\n",
    "clip = 0.2                    # Recommended 0.2, helps define the threshold to clip the ratio during SGA\n",
    "lam = 0.95                    # Lambda Parameter for GAE \n",
    "num_minibatches = 6           # Number of mini-batches for Mini-batch Update\n",
    "ent_coef = 0                  # Entropy coefficient for Entropy Regularization\n",
    "target_kl = 0.03              # KL Divergence threshold\n",
    "max_grad_norm = 0.5           # Gradient Clipping threshold\n",
    "mlp_layers = [64, 64]         # Number of neurons in each layer of the MLP\n",
    "render = False                # Whether to render the environment\n",
    "\n",
    "# Custom parameters\n",
    "seed = 42\n",
    "max_num_steps = 20000000\n",
    "num_test_runs_vs_baseline = 50\n",
    "num_test_runs_vs_random = 10\n",
    "num_iterations_before_test_runs = 1000\n",
    "threshold_test_return_to_update_opponents = 1 # Winning 1 out of 5 games consistently means we can upgrade the opponent\n",
    "num_iterations_before_save = 100"
   ]
  },
  {
   "cell_type": "code",
   "execution_count": 5,
   "metadata": {},
   "outputs": [],
   "source": [
    "\n",
    "def evaluate(env, agent1, num_eval_episodes, agent2=\"random\"):\n",
    "\n",
    "    \n",
    "    agent1.evaluation_mode()\n",
    "    \n",
    "\n",
    "    total_return = 0\n",
    "    for _ in range(num_eval_episodes):\n",
    "\n",
    "        state1 = env.reset()\n",
    "        state2 = state1\n",
    "        done = False\n",
    "        while not done:\n",
    "            \n",
    "            with torch.no_grad():\n",
    "\n",
    "              \n",
    "                action1, _ = agent1.select_action(state1, greedy=True)\n",
    "\n",
    "                if agent2 == \"random\":\n",
    "                    action2 = convert_to_value(env.action_space.sample())\n",
    "                else:\n",
    "                    action2, _ = agent2.select_action(state2)\n",
    "            \n",
    "            \n",
    "            next_state1, reward, done, info = env.step(convert_to_vector(action1), otherAction=convert_to_vector(action2))\n",
    "            next_state2 = info['otherObs']\n",
    "            \n",
    "          \n",
    "            total_return += reward\n",
    "\n",
    "          \n",
    "            state1 = next_state1\n",
    "            state2 = next_state2\n",
    "    \n",
    "\n",
    "    agent1.training_mode()\n",
    "\n",
    "\n",
    "    return total_return / num_eval_episodes"
   ]
  },
  {
   "cell_type": "code",
   "execution_count": 6,
   "metadata": {},
   "outputs": [],
   "source": [
    "def train_a2c(env, agent1, timesteps_per_actor, lr, eps, gamma, lam, ent_coef, max_grad_norm, seed, max_num_steps, \n",
    "              num_test_runs_vs_baseline, num_iterations_before_test_runs, num_iterations_before_save, \n",
    "              num_test_runs_vs_random, writer, logging_dir, mlp_layers, render, HP_string):\n",
    "    \n",
    "    torch.manual_seed(seed)\n",
    "    np.random.seed(seed)\n",
    "    env.seed(seed)\n",
    "    \n",
    "  \n",
    "    \n",
    "    agent2 = BaselinePolicy()  \n",
    "    def select_action(self, state, greedy=False):\n",
    "        action = self.predict(state)\n",
    "        return convert_to_value(action), None\n",
    "    agent2.select_action = types.MethodType(select_action, agent2)\n",
    "    \n",
    "    n_steps = 0\n",
    "    i = 0  \n",
    "    \n",
    "    while n_steps < max_num_steps:\n",
    "        clear_output(wait=True)\n",
    "        print(f\"{HP_string} Training step {n_steps}/{max_num_steps} ({n_steps/max_num_steps*100:.2f}%)\")\n",
    "        \n",
    "        batch_obs, batch_acts, batch_log_probs, batch_rews, batch_vals, batch_dones = agent1.gather_data(env, agent2)\n",
    "        \n",
    "       \n",
    "        agent1.learn(batch_obs=batch_obs,\n",
    "                     batch_acts=batch_acts,\n",
    "                     batch_log_probs=batch_log_probs,  \n",
    "                     batch_rews=batch_rews, \n",
    "                     batch_vals=batch_vals, \n",
    "                     batch_dones=batch_dones)\n",
    "        \n",
    "        \n",
    "        n_steps += timesteps_per_actor  \n",
    "        \n",
    "       \n",
    "        if (i + 1) % num_iterations_before_test_runs == 0:\n",
    "            average_test_return_baseline = evaluate(env, agent1, num_test_runs_vs_baseline, agent2)\n",
    "            writer.add_scalar(\"Evaluation/Average baseline test return\", average_test_return_baseline, n_steps)\n",
    "            \n",
    "            average_test_return_random = evaluate(env, agent1, num_test_runs_vs_random, \"random\")\n",
    "            writer.add_scalar(\"Evaluation/Average random test return\", average_test_return_random, n_steps)\n",
    "        \n",
    "        \n",
    "        if (i + 1) % num_iterations_before_save == 0:\n",
    "            agent1.save_models(logging_dir, 1, n_steps)\n",
    "        \n",
    "        writer.flush()\n",
    "        i += 1  \n",
    "    \n",
    "    \n",
    "    agent1.save_models(logging_dir, 1, n_steps)\n",
    "    writer.close()\n"
   ]
  },
  {
   "cell_type": "code",
   "execution_count": 7,
   "metadata": {},
   "outputs": [
    {
     "name": "stdout",
     "output_type": "stream",
     "text": [
      "0) LR: 0.0003, Ent_Coef: 0, Layers: 64, MaxGradNorm: 0.5 Training step 4669440/20000000 (23.35%)\n"
     ]
    }
   ],
   "source": [
    "i = 0 \n",
    "\n",
    "for lr in lr_choices:\n",
    "    \n",
    "    HP_string = f\"{i}) LR: {lr}, Ent_Coef: {ent_coef}, Layers: {mlp_layers[0]}, MaxGradNorm: {max_grad_norm}\"\n",
    "\n",
    "    \n",
    "    logging_dir = f\"./Logging/A2C-BASELINE/{datetime.now().strftime('%Y%m%d-%H%M%S')}-lr-{lr}-entcoef-{ent_coef}-mlp-{mlp_layers[0]}-maxgradnorm-{max_grad_norm}\"\n",
    "    writer = SummaryWriter(logging_dir)\n",
    "\n",
    "    \n",
    "    agent = A2C_Agent(obs_dim=env.observation_space.shape[0], \n",
    "                      act_dim=env.action_space.n, \n",
    "                      DEVICE=DEVICE, \n",
    "                      timesteps_per_actor=timesteps_per_batch, \n",
    "                      n_actors=16,  \n",
    "                      lr=lr, \n",
    "                      eps=eps, \n",
    "                      gamma=gamma, \n",
    "                      lam=lam, \n",
    "                      ent_coef=ent_coef, \n",
    "                      max_grad_norm=max_grad_norm, \n",
    "                      mlp_layers=mlp_layers, \n",
    "                      render=render)\n",
    "\n",
    "    \n",
    "    train_a2c(env=env,\n",
    "              agent1=agent, \n",
    "              timesteps_per_actor=timesteps_per_batch, \n",
    "              lr=lr, \n",
    "              eps=eps, \n",
    "              gamma=gamma, \n",
    "              lam=lam, \n",
    "              ent_coef=ent_coef, \n",
    "              max_grad_norm=max_grad_norm, \n",
    "              seed=seed, \n",
    "              max_num_steps=max_num_steps, \n",
    "              num_test_runs_vs_baseline=num_test_runs_vs_baseline, \n",
    "              num_iterations_before_test_runs=num_iterations_before_test_runs, \n",
    "              num_iterations_before_save=num_iterations_before_save, \n",
    "              num_test_runs_vs_random=num_test_runs_vs_random, \n",
    "              writer=writer, \n",
    "              logging_dir=logging_dir, \n",
    "              mlp_layers=mlp_layers, \n",
    "              render=render, \n",
    "              HP_string=HP_string)\n",
    "\n",
    "   \n",
    "    writer.close()\n",
    "\n",
    "    "
   ]
  }
 ],
 "metadata": {
  "kernelspec": {
   "display_name": ".venv",
   "language": "python",
   "name": "python3"
  },
  "language_info": {
   "codemirror_mode": {
    "name": "ipython",
    "version": 3
   },
   "file_extension": ".py",
   "mimetype": "text/x-python",
   "name": "python",
   "nbconvert_exporter": "python",
   "pygments_lexer": "ipython3",
   "version": "3.10.0"
  }
 },
 "nbformat": 4,
 "nbformat_minor": 2
}
