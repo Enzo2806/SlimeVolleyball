{
 "cells": [
  {
   "cell_type": "markdown",
   "metadata": {},
   "source": [
    "# Imports"
   ]
  },
  {
   "cell_type": "code",
   "execution_count": 1,
   "metadata": {},
   "outputs": [
    {
     "name": "stderr",
     "output_type": "stream",
     "text": [
      "c:\\Users\\wassi\\projects\\gitrepos\\SlimeVolleyball\\env\\lib\\site-packages\\tqdm\\auto.py:21: TqdmWarning: IProgress not found. Please update jupyter and ipywidgets. See https://ipywidgets.readthedocs.io/en/stable/user_install.html\n",
      "  from .autonotebook import tqdm as notebook_tqdm\n"
     ]
    }
   ],
   "source": [
    "import slimevolleygym\n",
    "from Models.PPO.PPO_Agent import PPO_Agent\n",
    "import torch\n",
    "from tqdm.auto import tqdm\n",
    "from torch.utils.tensorboard import SummaryWriter\n",
    "from datetime import datetime\n",
    "from slimevolleygym import BaselinePolicy\n",
    "import numpy as np\n",
    "from utils import convert_to_vector\n",
    "import types"
   ]
  },
  {
   "cell_type": "markdown",
   "metadata": {},
   "source": [
    "# Setup environment"
   ]
  },
  {
   "cell_type": "code",
   "execution_count": 2,
   "metadata": {},
   "outputs": [
    {
     "name": "stdout",
     "output_type": "stream",
     "text": [
      "Action space: 3\n",
      "Observation space: (12,)\n"
     ]
    }
   ],
   "source": [
    "env = slimevolleygym.SlimeVolleyEnv()\n",
    "print(f\"Action space: {env.action_space.n}\")\n",
    "print(f\"Observation space: {env.observation_space.shape}\")\n",
    "env.close()"
   ]
  },
  {
   "cell_type": "markdown",
   "metadata": {},
   "source": [
    "# Device"
   ]
  },
  {
   "cell_type": "code",
   "execution_count": 3,
   "metadata": {},
   "outputs": [
    {
     "name": "stdout",
     "output_type": "stream",
     "text": [
      "Device used:  cuda:0\n"
     ]
    }
   ],
   "source": [
    "DEVICE = torch.device('cuda:0' if torch.cuda.is_available() else 'mps' if torch.backends.mps.is_available() else 'cpu')\n",
    "\n",
    "# Print the device as a check\n",
    "print(\"Device used: \", DEVICE)"
   ]
  },
  {
   "cell_type": "markdown",
   "metadata": {},
   "source": [
    "# Hyperparameters setup"
   ]
  },
  {
   "cell_type": "code",
   "execution_count": 4,
   "metadata": {},
   "outputs": [],
   "source": [
    "# Hyperparameters\n",
    "timesteps_per_batch = 4096                 # Number of timesteps to run per batch\n",
    "max_timesteps_per_episode = 1600           # Max number of timesteps per episode\n",
    "n_updates_per_iteration = 10               # Number of times to update actor/critic per iteration\n",
    "lr_choices = [0.0003, 0.005]               # Learning rate of both actor and critic optimizers\n",
    "gamma = 0.99                               # Discount factor to be applied when calculating Rewards-To-Go\n",
    "clip = 0.2                                 # Recommended 0.2, helps define the threshold to clip the ratio during SGA\n",
    "lam = 0.95                                 # Lambda Parameter for GAE \n",
    "num_minibatches = 6                        # Number of mini-batches for Mini-batch Update\n",
    "ent_coef = 0                               # Entropy coefficient for Entropy Regularization\n",
    "target_kl = 0.02                           # KL Divergence threshold\n",
    "max_grad_norm = 0.5                        # Gradient Clipping threshold\n",
    "render = False                             # Whether to render the environment\n",
    "\n",
    "# Custom parameters\n",
    "seed = 42\n",
    "max_num_steps = 20000000\n",
    "num_test_runs = 10\n",
    "num_iterations_before_test_runs = 50\n",
    "threshold_test_return_to_update_opponents = 1 # Winning 1 out of 5 games consistently means we can upgrade the opponent\n",
    "num_iterations_before_save = 100"
   ]
  },
  {
   "cell_type": "code",
   "execution_count": 5,
   "metadata": {},
   "outputs": [],
   "source": [
    "# If agent2 = None, then the agent is playing against the baseline policy\n",
    "def evaluate(env, agent1, agent2, num_eval_episodes):\n",
    "\n",
    "    # Set the model in evaluation mode\n",
    "    agent1.evaluation_mode()\n",
    "    \n",
    "    # Run num_eval_episodes episodes and calculate the total return\n",
    "    total_return = 0\n",
    "    for _ in range(num_eval_episodes):\n",
    "\n",
    "        state1 = env.reset()\n",
    "        state2 = state1\n",
    "        done = False\n",
    "        while not done:\n",
    "            \n",
    "            with torch.no_grad():\n",
    "\n",
    "                # Select the actions for each agent\n",
    "                action1, _ = agent1.select_action(state1, greedy=True)\n",
    "                action2, _ = agent2.select_action(state2)\n",
    "            \n",
    "            # Step the environment forward\n",
    "            next_state1, reward, done, info = env.step(convert_to_vector(action1), otherAction=convert_to_vector(action2))\n",
    "            next_state2 = info['otherObs']\n",
    "            \n",
    "            # Add the individual agents' rewards to the total returns (Since they're the same for both agents)\n",
    "            total_return += reward\n",
    "\n",
    "            # Update the states\n",
    "            state1 = next_state1\n",
    "            state2 = next_state2\n",
    "    \n",
    "    # Set the model back in training mode\n",
    "    agent1.training_mode()\n",
    "\n",
    "    # Return the average return\n",
    "    return total_return / num_eval_episodes"
   ]
  },
  {
   "cell_type": "code",
   "execution_count": 6,
   "metadata": {},
   "outputs": [],
   "source": [
    "def train(timesteps_per_batch, max_timesteps_per_episode, n_updates_per_iteration, lr, gamma, clip, lam, \\\n",
    "          num_minibatches, ent_coef, target_kl, max_grad_norm, seed, max_num_steps, num_test_runs, \\\n",
    "            num_iterations_before_test_runs, num_iterations_before_save,\\\n",
    "                writer, logging_dir, render):\n",
    "\n",
    "    # Create the environment\n",
    "    env = slimevolleygym.SlimeVolleyEnv()\n",
    "    torch.manual_seed(seed)\n",
    "    env.seed(seed)\n",
    "\n",
    "    # Create the player agents (6 possible actions cause we don't consider pressing forward and backward at the same time)\n",
    "    agent1 = PPO_Agent(obs_dim=12, \n",
    "                        act_dim=6,\n",
    "                        DEVICE=DEVICE,\n",
    "                        timesteps_per_batch=timesteps_per_batch,\n",
    "                        max_timesteps_per_episode=max_timesteps_per_episode,\n",
    "                        n_updates_per_iteration=n_updates_per_iteration,\n",
    "                        lr=lr,\n",
    "                        gamma=gamma,\n",
    "                        clip=clip,\n",
    "                        lam=lam,\n",
    "                        num_minibatches=num_minibatches,\n",
    "                        ent_coef=ent_coef,\n",
    "                        target_kl=target_kl,\n",
    "                        max_grad_norm=max_grad_norm,\n",
    "                        render=render)\n",
    "    \n",
    "    # Create the baseline policy\n",
    "    agent2 = BaselinePolicy()\n",
    "    def select_action(self, state, greedy=False):\n",
    "        return self.predict(state), None\n",
    "    agent2.select_action = types.MethodType(select_action, agent2)\n",
    "\n",
    "    # Store the best test return\n",
    "    n_steps = 0\n",
    "    i = 0 # Episode number\n",
    "    writer.flush()\n",
    "\n",
    "    # Train the agent\n",
    "    while n_steps < max_num_steps:\n",
    "\n",
    "        # Print the progress\n",
    "        print(flush=True)\n",
    "        print(f\"Training step {n_steps}/{max_num_steps}\")\n",
    "        print(flush=True)\n",
    "\n",
    "        # Check if it's time to save the models\n",
    "        if i > 0 and (i+1) % num_iterations_before_save == 0:\n",
    "            agent1.save_models(logging_dir, 1, n_steps+1)\n",
    "        \n",
    "        if i % num_iterations_before_test_runs == 0:\n",
    "\n",
    "            # Evaluate the agent against the baseline policy\n",
    "            average_test_return_baseline = evaluate(env, agent1, agent2, num_test_runs)\n",
    "            writer.add_scalar(\"Average baseline test return - Training step\", average_test_return_baseline, n_steps)\n",
    "\n",
    "            # Flush both results\n",
    "            writer.flush()\n",
    "\n",
    "        # Gather a batch of experiences\n",
    "        batch_obs, batch_acts, batch_log_probs, batch_rews, batch_lens, batch_vals, batch_dones = agent1.gather_data(env, agent2)\n",
    "\n",
    "        # Increment the number of steps\n",
    "        n_steps += sum(batch_lens)\n",
    "\n",
    "        # Run a training iteration on that batch\n",
    "        agent1.learn(batch_acts=batch_acts,\n",
    "                     batch_obs=batch_obs,\n",
    "                     batch_log_probs=batch_log_probs,\n",
    "                     batch_rews=batch_rews,\n",
    "                     batch_vals=batch_vals,\n",
    "                     batch_dones=batch_dones,\n",
    "                     n_steps_so_far=n_steps,\n",
    "                     total_n_steps=max_num_steps,\n",
    "                     writer=writer)  \n",
    "\n",
    "        # Log metrics\n",
    "        writer.add_scalar(\"Average episode length - Training step\", np.mean(batch_lens), n_steps)\n",
    "        writer.add_scalar(\"Average self-play train return - Training step\", np.mean([np.sum(ep_rews) for ep_rews in batch_rews]), n_steps)\n",
    "        writer.flush()\n",
    "\n",
    "        # Increment the iteration number\n",
    "        i += 1\n",
    "    \n",
    "    # Save the final version of the models\n",
    "    agent1.save_models(logging_dir, 1, n_steps+1)"
   ]
  },
  {
   "cell_type": "code",
   "execution_count": 7,
   "metadata": {},
   "outputs": [
    {
     "name": "stdout",
     "output_type": "stream",
     "text": [
      "0) Alpha: 0.0003, Beta: 0\n"
     ]
    },
    {
     "name": "stdout",
     "output_type": "stream",
     "text": [
      "\n",
      "Training step 0/20000000\n",
      "\n"
     ]
    },
    {
     "name": "stderr",
     "output_type": "stream",
     "text": [
      "c:\\Users\\wassi\\projects\\gitrepos\\SlimeVolleyball\\Models\\PPO\\PPO_Agent.py:242: UserWarning: To copy construct from a tensor, it is recommended to use sourceTensor.clone().detach() or sourceTensor.clone().detach().requires_grad_(True), rather than torch.tensor(sourceTensor).\n",
      "  obs = torch.tensor(obs,dtype=torch.float).to(self.DEVICE)\n",
      "c:\\Users\\wassi\\projects\\gitrepos\\SlimeVolleyball\\Models\\PPO\\PPO_Agent.py:369: UserWarning: Creating a tensor from a list of numpy.ndarrays is extremely slow. Please consider converting the list to a single numpy.ndarray with numpy.array() before converting to a tensor. (Triggered internally at ..\\torch\\csrc\\utils\\tensor_new.cpp:278.)\n",
      "  batch_obs = torch.tensor(batch_obs, dtype=torch.float).to(self.DEVICE)\n"
     ]
    },
    {
     "name": "stdout",
     "output_type": "stream",
     "text": [
      "\n",
      "Training step 4572/20000000\n",
      "\n",
      "\n",
      "Training step 8754/20000000\n",
      "\n",
      "\n",
      "Training step 13381/20000000\n",
      "\n",
      "\n",
      "Training step 17693/20000000\n",
      "\n"
     ]
    },
    {
     "name": "stderr",
     "output_type": "stream",
     "text": [
      "c:\\Users\\wassi\\projects\\gitrepos\\SlimeVolleyball\\env\\lib\\site-packages\\torch\\nn\\modules\\loss.py:535: UserWarning: Using a target size (torch.Size([1])) that is different to the input size (torch.Size([])). This will likely lead to incorrect results due to broadcasting. Please ensure they have the same size.\n",
      "  return F.mse_loss(input, target, reduction=self.reduction)\n"
     ]
    },
    {
     "name": "stdout",
     "output_type": "stream",
     "text": [
      "\n",
      "Training step 22021/20000000\n",
      "\n",
      "\n",
      "Training step 26430/20000000\n",
      "\n",
      "\n",
      "Training step 30675/20000000\n",
      "\n",
      "\n",
      "Training step 35001/20000000\n",
      "\n",
      "\n",
      "Training step 39658/20000000\n",
      "\n",
      "\n",
      "Training step 43775/20000000\n",
      "\n",
      "\n",
      "Training step 48148/20000000\n",
      "\n",
      "\n",
      "Training step 52621/20000000\n",
      "\n",
      "\n",
      "Training step 56979/20000000\n",
      "\n",
      "\n",
      "Training step 61214/20000000\n",
      "\n",
      "\n",
      "Training step 65637/20000000\n",
      "\n",
      "\n",
      "Training step 69902/20000000\n",
      "\n",
      "\n",
      "Training step 74270/20000000\n",
      "\n",
      "\n",
      "Training step 78769/20000000\n",
      "\n",
      "\n",
      "Training step 83074/20000000\n",
      "\n"
     ]
    }
   ],
   "source": [
    "i = 0 # Keep track of the hyperparameter combinations\n",
    "\n",
    "for lr in lr_choices:\n",
    "\n",
    "    # Print the hyperparameters\n",
    "    print(f\"{i}) Alpha: {lr}, Beta: {ent_coef}\")\n",
    "\n",
    "    # Create the writer\n",
    "    logging_dir = f\"./Logging/PPO-BASELINE/{datetime.now().strftime('%Y%m%d-%H%M%S')}-lr-{lr}-entcoef-{ent_coef}\"\n",
    "    writer = SummaryWriter(logging_dir)\n",
    "\n",
    "    # Train the agent\n",
    "    train(timesteps_per_batch, max_timesteps_per_episode, n_updates_per_iteration, lr, gamma, \\\n",
    "            clip, lam, num_minibatches, ent_coef, target_kl, max_grad_norm, seed, max_num_steps, \\\n",
    "            num_test_runs, num_iterations_before_test_runs, num_iterations_before_save, writer, \\\n",
    "                logging_dir, render)\n",
    "    \n",
    "    # Close the writer\n",
    "    writer.close()"
   ]
  }
 ],
 "metadata": {
  "kernelspec": {
   "display_name": "venv",
   "language": "python",
   "name": "python3"
  },
  "language_info": {
   "codemirror_mode": {
    "name": "ipython",
    "version": 3
   },
   "file_extension": ".py",
   "mimetype": "text/x-python",
   "name": "python",
   "nbconvert_exporter": "python",
   "pygments_lexer": "ipython3",
   "version": "3.10.4"
  }
 },
 "nbformat": 4,
 "nbformat_minor": 2
}
