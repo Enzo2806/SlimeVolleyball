{
 "cells": [
  {
   "cell_type": "markdown",
   "metadata": {},
   "source": [
    "# Imports"
   ]
  },
  {
   "cell_type": "code",
   "execution_count": 1,
   "metadata": {},
   "outputs": [
    {
     "name": "stderr",
     "output_type": "stream",
     "text": [
      "c:\\Users\\wassi\\projects\\gitrepos\\SlimeVolleyball\\env\\lib\\site-packages\\tqdm\\auto.py:21: TqdmWarning: IProgress not found. Please update jupyter and ipywidgets. See https://ipywidgets.readthedocs.io/en/stable/user_install.html\n",
      "  from .autonotebook import tqdm as notebook_tqdm\n"
     ]
    }
   ],
   "source": [
    "import slimevolleygym\n",
    "from Models.PPO.PPO_Agent import PPO_Agent\n",
    "import torch\n",
    "from tqdm.auto import tqdm\n",
    "from torch.utils.tensorboard import SummaryWriter\n",
    "from datetime import datetime\n",
    "from slimevolleygym import BaselinePolicy"
   ]
  },
  {
   "cell_type": "markdown",
   "metadata": {},
   "source": [
    "# Setup environment"
   ]
  },
  {
   "cell_type": "code",
   "execution_count": 2,
   "metadata": {},
   "outputs": [
    {
     "name": "stdout",
     "output_type": "stream",
     "text": [
      "Action space: 3\n",
      "Observation space: (12,)\n"
     ]
    }
   ],
   "source": [
    "env = slimevolleygym.SlimeVolleyEnv()\n",
    "print(f\"Action space: {env.action_space.n}\")\n",
    "print(f\"Observation space: {env.observation_space.shape}\")\n",
    "env.close()"
   ]
  },
  {
   "cell_type": "markdown",
   "metadata": {},
   "source": [
    "# Device"
   ]
  },
  {
   "cell_type": "code",
   "execution_count": 3,
   "metadata": {},
   "outputs": [
    {
     "name": "stdout",
     "output_type": "stream",
     "text": [
      "Device used:  cuda:0\n"
     ]
    }
   ],
   "source": [
    "DEVICE = torch.device('cuda:0' if torch.cuda.is_available() else 'mps' if torch.backends.mps.is_available() else 'cpu')\n",
    "\n",
    "# Print the device as a check\n",
    "print(\"Device used: \", DEVICE)"
   ]
  },
  {
   "cell_type": "markdown",
   "metadata": {},
   "source": [
    "# Hyperparameters setup"
   ]
  },
  {
   "cell_type": "code",
   "execution_count": 4,
   "metadata": {},
   "outputs": [],
   "source": [
    "seed = 42\n",
    "batch_size = 64\n",
    "n_epochs = 10\n",
    "alpha_choices = [0.0003, 0.0005]\n",
    "lamda = 0.95\n",
    "gamma = 0.99\n",
    "clip = 0.2 # From the paper\n",
    "beta_choices = [0, 0.1] # Entropy regularization coefficient\n",
    "horizon = 4096 # Number of steps before training the agent\n",
    "\n",
    "max_num_episodes = 10000\n",
    "num_test_runs = 10\n",
    "num_episodes_before_test_runs = 50\n",
    "threshold_test_return_to_update_opponents = 0.5 # Winning 0.5 out of 5 games consistently means we can upgrade the opponent\n",
    "num_episodes_before_save = 1000"
   ]
  },
  {
   "cell_type": "code",
   "execution_count": 5,
   "metadata": {},
   "outputs": [],
   "source": [
    "# If agent2 = None, then the agent is playing against the baseline policy\n",
    "def evaluate(env, agent1, num_eval_episodes, agent2=None):\n",
    "\n",
    "    # Set the model in evaluation mode\n",
    "    agent1.actor.eval()\n",
    "\n",
    "    # If agent2 is None, then we're playing against the baseline policy\n",
    "    if agent2 is None:\n",
    "        agent2 = BaselinePolicy()\n",
    "    else:\n",
    "        agent2.actor.eval()\n",
    "    \n",
    "    # Run num_eval_episodes episodes and calculate the total return\n",
    "    total_return = 0\n",
    "    for _ in range(num_eval_episodes):\n",
    "\n",
    "        state1 = env.reset()\n",
    "        state2 = state1\n",
    "        done = False\n",
    "        while not done:\n",
    "            \n",
    "            with torch.no_grad():\n",
    "\n",
    "                # Select the actions for each agent\n",
    "                action1, _, _ = agent1.select_action(torch.FloatTensor(state1).to(DEVICE), greedy=True)\n",
    "\n",
    "                if agent2 is None:\n",
    "                    action2 = agent2.predict(state2)\n",
    "                else:\n",
    "                    action2, _, _ = agent2.select_action(torch.FloatTensor(state2).to(DEVICE), greedy=True)\n",
    "            \n",
    "            # Step the environment forward\n",
    "            next_state1, reward, done, info = env.step(action1, otherAction=action2)\n",
    "            next_state2 = info['otherObs']\n",
    "            \n",
    "            # Add the individual agents' rewards to the total returns (Since they're the same for both agents)\n",
    "            total_return += reward\n",
    "\n",
    "            # Update the states\n",
    "            state1 = next_state1\n",
    "            state2 = next_state2\n",
    "    \n",
    "    # Set the model back in training mode\n",
    "    agent1.actor.train()\n",
    "\n",
    "    if agent2 is not None:\n",
    "        agent2.actor.train()\n",
    "\n",
    "    # Return the average return\n",
    "    return total_return / num_eval_episodes"
   ]
  },
  {
   "cell_type": "code",
   "execution_count": 6,
   "metadata": {},
   "outputs": [],
   "source": [
    "def train(alpha, beta, lamb, gamma, horizon, batch_size, n_epochs, clip, max_num_episodes, num_test_runs, num_episodes_before_test_runs, threshold_test_return_to_update_opponents, writer, logging_dir):\n",
    "\n",
    "    # Create the environment\n",
    "    env = slimevolleygym.SlimeVolleyEnv()\n",
    "    torch.manual_seed(seed)\n",
    "    env.seed(seed)\n",
    "\n",
    "    # Create the player agents\n",
    "    agent1 = PPO_Agent(state_size=env.observation_space.shape,\n",
    "                        action_size=env.action_space.n,\n",
    "                        alpha = alpha,\n",
    "                        beta = beta,\n",
    "                        lamda = lamb,\n",
    "                        gamma = gamma,\n",
    "                        horizon = horizon,\n",
    "                        batch_size = batch_size,\n",
    "                        num_epoch = n_epochs,\n",
    "                        clip = clip,\n",
    "                        device=DEVICE)\n",
    "    \n",
    "    agent2 = PPO_Agent(state_size=env.observation_space.shape,\n",
    "                        action_size=env.action_space.n,\n",
    "                        alpha = alpha,\n",
    "                        beta = beta,\n",
    "                        lamda = lamb,\n",
    "                        gamma = gamma,\n",
    "                        horizon = horizon,\n",
    "                        batch_size = batch_size,\n",
    "                        num_epoch = n_epochs,\n",
    "                        clip = clip,\n",
    "                        device=DEVICE)\n",
    "\n",
    "    # Store the best test return\n",
    "    n_steps = 0\n",
    "    e = 0 # Episode number\n",
    "    generation_number = 0 # The number of times we copied the agent into the opponent\n",
    "    writer.add_scalar(\"TrainStep-GenerationNumber\", 0, 0) # Log the number of steps it took for each generation\n",
    "    writer.flush()\n",
    "\n",
    "    # Train the agent\n",
    "    for e in tqdm(range(max_num_episodes)):\n",
    "\n",
    "        # Check if it's time to save the models\n",
    "        if e > 0 and (e+1) % num_episodes_before_save == 0:\n",
    "            agent1.save_models(logging_dir, 1, e+1)\n",
    "            agent2.save_models(logging_dir, 2, e+1)\n",
    "        \n",
    "        if e % num_episodes_before_test_runs == 0:\n",
    "            \n",
    "            # Evaluate the 2 agents against each other\n",
    "            average_test_return = evaluate(env, agent1, num_test_runs, agent2=agent2)\n",
    "            writer.add_scalar(\"Average self-play test return - Training step\", average_test_return, n_steps)\n",
    "            writer.add_scalar(\"Average self-play test return - Training episode\", average_test_return, e)\n",
    "\n",
    "            # Evaluate the agent against the baseline policy\n",
    "            average_test_return_baseline = evaluate(env, agent1, num_test_runs)\n",
    "            writer.add_scalar(\"Average baseline test return - Training step\", average_test_return_baseline, n_steps)\n",
    "            writer.add_scalar(\"Average baseline test return - Training episode\", average_test_return_baseline, e)\n",
    "\n",
    "            # Flush both results\n",
    "            writer.flush()\n",
    "\n",
    "            # Check if the average test return is above the threshold\n",
    "            if average_test_return > threshold_test_return_to_update_opponents:\n",
    "\n",
    "                # Copy the player agent into the opponent agent\n",
    "                agent2.actor.load_state_dict(agent1.actor.state_dict())\n",
    "                agent2.critic.load_state_dict(agent1.critic.state_dict())\n",
    "\n",
    "                # Increment the generation number\n",
    "                generation_number += 1\n",
    "\n",
    "                # Store the number of steps it took for each generation\n",
    "                writer.add_scalar(\"Training step - Generation number\", generation_number, n_steps)\n",
    "                writer.add_scalar(\"Training episode - Generation number\", generation_number, e)\n",
    "\n",
    "                # Store the score against the baseline policy for the generation\n",
    "                writer.add_scalar(\"Average baseline test return - Generation number\", average_test_return_baseline, generation_number)\n",
    "\n",
    "                # Flush both sets of results\n",
    "                writer.flush()\n",
    "\n",
    "\n",
    "        # Reset the environment, extracting the initial states of the 2 agents\n",
    "        state1 = env.reset()\n",
    "        state2 = state1\n",
    "        \n",
    "        # Run an episode\n",
    "        done = False\n",
    "        total_return = 0\n",
    "        while not done:  \n",
    "\n",
    "            # Select the actions for each agent\n",
    "            action1, prob1, val1 = agent1.select_action(torch.FloatTensor(state1).to(DEVICE))\n",
    "            action2, prob2, val2 = agent2.select_action(torch.FloatTensor(state2).to(DEVICE))\n",
    "\n",
    "            # Step the environment forward\n",
    "            next_state1, reward, done, info = env.step(action1, otherAction=action2)\n",
    "            next_state2 = info['otherObs']\n",
    "\n",
    "            # Store the experience in the replay buffer\n",
    "            # Use terminated to only learn the end of the episode if the episode is done\n",
    "            agent1.remember(next_state1, action1, prob1, val1, reward, done)\n",
    "            agent2.remember(next_state2, action2, prob2, val2, reward, done)\n",
    "\n",
    "            # Update the states\n",
    "            state1 = next_state1\n",
    "            state2 = next_state2\n",
    "\n",
    "            # Add the individual agents' rewards to the total returns (Since they're the same for both agents)\n",
    "            total_return += reward\n",
    "\n",
    "            # Train the player agent only if the number of steps is a multiple of the horizon\n",
    "            if n_steps > 0 and n_steps % horizon == 0:\n",
    "                agent1.learn()\n",
    "\n",
    "            # Incremenent the number of steps\n",
    "            n_steps += 1\n",
    "        \n",
    "        # Print the training returns\n",
    "        writer.add_scalar(\"TrainReturn-TrainStep\", total_return, n_steps)\n",
    "        writer.add_scalar(\"TrainReturn-TrainEpisode\", total_return, e)\n",
    "        writer.flush()"
   ]
  },
  {
   "cell_type": "code",
   "execution_count": 7,
   "metadata": {},
   "outputs": [
    {
     "name": "stdout",
     "output_type": "stream",
     "text": [
      "0) Alpha: 0.0003, Beta: 0\n"
     ]
    },
    {
     "name": "stderr",
     "output_type": "stream",
     "text": [
      " 13%|█▎        | 128/1000 [45:13<5:08:03, 21.20s/it]\n"
     ]
    },
    {
     "ename": "KeyboardInterrupt",
     "evalue": "",
     "output_type": "error",
     "traceback": [
      "\u001b[1;31m---------------------------------------------------------------------------\u001b[0m",
      "\u001b[1;31mKeyboardInterrupt\u001b[0m                         Traceback (most recent call last)",
      "Cell \u001b[1;32mIn[7], line 15\u001b[0m\n\u001b[0;32m     12\u001b[0m writer \u001b[38;5;241m=\u001b[39m SummaryWriter(logging_dir)\n\u001b[0;32m     14\u001b[0m \u001b[38;5;66;03m# Train the agent\u001b[39;00m\n\u001b[1;32m---> 15\u001b[0m \u001b[43mtrain\u001b[49m\u001b[43m(\u001b[49m\u001b[43malpha\u001b[49m\u001b[38;5;241;43m=\u001b[39;49m\u001b[43malpha\u001b[49m\u001b[43m,\u001b[49m\u001b[43m \u001b[49m\n\u001b[0;32m     16\u001b[0m \u001b[43m      \u001b[49m\u001b[43mbeta\u001b[49m\u001b[38;5;241;43m=\u001b[39;49m\u001b[43mbeta\u001b[49m\u001b[43m,\u001b[49m\u001b[43m \u001b[49m\n\u001b[0;32m     17\u001b[0m \u001b[43m      \u001b[49m\u001b[43mlamb\u001b[49m\u001b[38;5;241;43m=\u001b[39;49m\u001b[43mlamda\u001b[49m\u001b[43m,\u001b[49m\u001b[43m \u001b[49m\n\u001b[0;32m     18\u001b[0m \u001b[43m      \u001b[49m\u001b[43mgamma\u001b[49m\u001b[38;5;241;43m=\u001b[39;49m\u001b[43mgamma\u001b[49m\u001b[43m,\u001b[49m\u001b[43m \u001b[49m\n\u001b[0;32m     19\u001b[0m \u001b[43m      \u001b[49m\u001b[43mhorizon\u001b[49m\u001b[38;5;241;43m=\u001b[39;49m\u001b[43mhorizon\u001b[49m\u001b[43m,\u001b[49m\u001b[43m \u001b[49m\n\u001b[0;32m     20\u001b[0m \u001b[43m      \u001b[49m\u001b[43mbatch_size\u001b[49m\u001b[38;5;241;43m=\u001b[39;49m\u001b[43mbatch_size\u001b[49m\u001b[43m,\u001b[49m\u001b[43m \u001b[49m\n\u001b[0;32m     21\u001b[0m \u001b[43m      \u001b[49m\u001b[43mn_epochs\u001b[49m\u001b[38;5;241;43m=\u001b[39;49m\u001b[43mn_epochs\u001b[49m\u001b[43m,\u001b[49m\u001b[43m \u001b[49m\n\u001b[0;32m     22\u001b[0m \u001b[43m      \u001b[49m\u001b[43mclip\u001b[49m\u001b[38;5;241;43m=\u001b[39;49m\u001b[43mclip\u001b[49m\u001b[43m,\u001b[49m\u001b[43m \u001b[49m\n\u001b[0;32m     23\u001b[0m \u001b[43m      \u001b[49m\u001b[43mmax_num_episodes\u001b[49m\u001b[38;5;241;43m=\u001b[39;49m\u001b[43mmax_num_episodes\u001b[49m\u001b[43m,\u001b[49m\n\u001b[0;32m     24\u001b[0m \u001b[43m      \u001b[49m\u001b[43mnum_test_runs\u001b[49m\u001b[38;5;241;43m=\u001b[39;49m\u001b[43mnum_test_runs\u001b[49m\u001b[43m,\u001b[49m\u001b[43m \u001b[49m\n\u001b[0;32m     25\u001b[0m \u001b[43m      \u001b[49m\u001b[43mnum_episodes_before_test_runs\u001b[49m\u001b[38;5;241;43m=\u001b[39;49m\u001b[43mnum_episodes_before_test_runs\u001b[49m\u001b[43m,\u001b[49m\u001b[43m \u001b[49m\n\u001b[0;32m     26\u001b[0m \u001b[43m      \u001b[49m\u001b[43mthreshold_test_return_to_update_opponents\u001b[49m\u001b[38;5;241;43m=\u001b[39;49m\u001b[43mthreshold_test_return_to_update_opponents\u001b[49m\u001b[43m,\u001b[49m\u001b[43m \u001b[49m\n\u001b[0;32m     27\u001b[0m \u001b[43m      \u001b[49m\u001b[43mwriter\u001b[49m\u001b[38;5;241;43m=\u001b[39;49m\u001b[43mwriter\u001b[49m\u001b[43m,\u001b[49m\n\u001b[0;32m     28\u001b[0m \u001b[43m      \u001b[49m\u001b[43mlogging_dir\u001b[49m\u001b[38;5;241;43m=\u001b[39;49m\u001b[43mlogging_dir\u001b[49m\u001b[43m)\u001b[49m\n\u001b[0;32m     30\u001b[0m \u001b[38;5;66;03m# Close the writer\u001b[39;00m\n\u001b[0;32m     31\u001b[0m writer\u001b[38;5;241m.\u001b[39mclose()\n",
      "Cell \u001b[1;32mIn[6], line 93\u001b[0m, in \u001b[0;36mtrain\u001b[1;34m(alpha, beta, lamb, gamma, horizon, batch_size, n_epochs, clip, max_num_episodes, num_test_runs, num_episodes_before_test_runs, threshold_test_return_to_update_opponents, writer, logging_dir)\u001b[0m\n\u001b[0;32m     91\u001b[0m \u001b[38;5;66;03m# Train the player agent only if the number of steps is a multiple of the horizon\u001b[39;00m\n\u001b[0;32m     92\u001b[0m \u001b[38;5;28;01mif\u001b[39;00m n_steps \u001b[38;5;241m>\u001b[39m \u001b[38;5;241m0\u001b[39m \u001b[38;5;129;01mand\u001b[39;00m n_steps \u001b[38;5;241m%\u001b[39m horizon \u001b[38;5;241m==\u001b[39m \u001b[38;5;241m0\u001b[39m:\n\u001b[1;32m---> 93\u001b[0m     \u001b[43magent1\u001b[49m\u001b[38;5;241;43m.\u001b[39;49m\u001b[43mlearn\u001b[49m\u001b[43m(\u001b[49m\u001b[43m)\u001b[49m\n\u001b[0;32m     95\u001b[0m \u001b[38;5;66;03m# Incremenent the number of steps\u001b[39;00m\n\u001b[0;32m     96\u001b[0m n_steps \u001b[38;5;241m+\u001b[39m\u001b[38;5;241m=\u001b[39m \u001b[38;5;241m1\u001b[39m\n",
      "File \u001b[1;32mc:\\Users\\wassi\\projects\\gitrepos\\SlimeVolleyball\\Models\\PPO\\PPO_Agent.py:133\u001b[0m, in \u001b[0;36mPPO_Agent.learn\u001b[1;34m(self)\u001b[0m\n\u001b[0;32m    129\u001b[0m \u001b[38;5;66;03m# Calculate the advantage for each step\u001b[39;00m\n\u001b[0;32m    130\u001b[0m \u001b[38;5;28;01mfor\u001b[39;00m k \u001b[38;5;129;01min\u001b[39;00m \u001b[38;5;28mrange\u001b[39m(t, \u001b[38;5;28mlen\u001b[39m(reward_arr) \u001b[38;5;241m-\u001b[39m \u001b[38;5;241m1\u001b[39m):\n\u001b[0;32m    131\u001b[0m     \u001b[38;5;66;03m# Advantage = sum from t to T-1 of (r_t + gamma * V(s_{t+1}) - V(s_t)) where T is the end of the episode\u001b[39;00m\n\u001b[0;32m    132\u001b[0m     \u001b[38;5;66;03m# If the episode ends, the advantage is just the reward -> value of terminal state is 0 by definition (this is not present in the formula of the paper but is a common assumption in RL)\u001b[39;00m\n\u001b[1;32m--> 133\u001b[0m     a_t \u001b[38;5;241m+\u001b[39m\u001b[38;5;241m=\u001b[39m discount \u001b[38;5;241m*\u001b[39m (reward_arr[k] \u001b[38;5;241m+\u001b[39m \u001b[38;5;28mself\u001b[39m\u001b[38;5;241m.\u001b[39mgamma \u001b[38;5;241m*\u001b[39m values[k \u001b[38;5;241m+\u001b[39m \u001b[38;5;241m1\u001b[39m] \u001b[38;5;241m*\u001b[39m (\u001b[38;5;241m1\u001b[39m \u001b[38;5;241m-\u001b[39m \u001b[38;5;28;43mint\u001b[39;49m\u001b[43m(\u001b[49m\u001b[43mdones_arr\u001b[49m\u001b[43m[\u001b[49m\u001b[43mk\u001b[49m\u001b[43m]\u001b[49m\u001b[43m)\u001b[49m) \u001b[38;5;241m-\u001b[39m values[k])\n\u001b[0;32m    134\u001b[0m     discount \u001b[38;5;241m*\u001b[39m\u001b[38;5;241m=\u001b[39m \u001b[38;5;28mself\u001b[39m\u001b[38;5;241m.\u001b[39mgamma \u001b[38;5;241m*\u001b[39m \u001b[38;5;28mself\u001b[39m\u001b[38;5;241m.\u001b[39mlamda\n\u001b[0;32m    135\u001b[0m \u001b[38;5;66;03m# End of every k steps, store the advantage\u001b[39;00m\n",
      "\u001b[1;31mKeyboardInterrupt\u001b[0m: "
     ]
    }
   ],
   "source": [
    "i = 0 # Keep track of the hyperparameter combinations\n",
    "\n",
    "for alpha in alpha_choices:\n",
    "\n",
    "    for beta in beta_choices:\n",
    "\n",
    "        # Print the hyperparameters\n",
    "        print(f\"{i}) Alpha: {alpha}, Beta: {beta}\")\n",
    "\n",
    "        # Create the writer\n",
    "        logging_dir = f\"./Logging/PPO/{datetime.now().strftime('%Y%m%d-%H%M%S')}-alpha-{alpha}-beta-{beta}\"\n",
    "        writer = SummaryWriter(logging_dir)\n",
    "\n",
    "        # Train the agent\n",
    "        train(alpha=alpha, \n",
    "              beta=beta, \n",
    "              lamb=lamda, \n",
    "              gamma=gamma, \n",
    "              horizon=horizon, \n",
    "              batch_size=batch_size, \n",
    "              n_epochs=n_epochs, \n",
    "              clip=clip, \n",
    "              max_num_episodes=max_num_episodes,\n",
    "              num_test_runs=num_test_runs, \n",
    "              num_episodes_before_test_runs=num_episodes_before_test_runs, \n",
    "              threshold_test_return_to_update_opponents=threshold_test_return_to_update_opponents, \n",
    "              writer=writer,\n",
    "              logging_dir=logging_dir)\n",
    "        \n",
    "        # Close the writer\n",
    "        writer.close()"
   ]
  }
 ],
 "metadata": {
  "kernelspec": {
   "display_name": "venv",
   "language": "python",
   "name": "python3"
  },
  "language_info": {
   "codemirror_mode": {
    "name": "ipython",
    "version": 3
   },
   "file_extension": ".py",
   "mimetype": "text/x-python",
   "name": "python",
   "nbconvert_exporter": "python",
   "pygments_lexer": "ipython3",
   "version": "3.10.4"
  }
 },
 "nbformat": 4,
 "nbformat_minor": 2
}
