{
 "cells": [
  {
   "cell_type": "markdown",
   "metadata": {},
   "source": [
    "# Imports"
   ]
  },
  {
   "cell_type": "code",
   "execution_count": 5,
   "metadata": {},
   "outputs": [],
   "source": [
    "import gym\n",
    "import slimevolleygym\n",
    "from Models.PPO.PPO_Agent import PPO_Agent\n",
    "import torch\n",
    "from tqdm.auto import tqdm\n",
    "from torch.utils.tensorboard import SummaryWriter\n",
    "from datetime import datetime\n",
    "\n",
    "# For tensorboard logging\n",
    "now = datetime.now()\n",
    "logdir = \"Logging/PPO/Tensorboard/\" + now.strftime(\"%Y%m%d-%H%M%S\") + \"/\"\n",
    "writer = SummaryWriter(log_dir=logdir)"
   ]
  },
  {
   "cell_type": "markdown",
   "metadata": {},
   "source": [
    "# Setup environment"
   ]
  },
  {
   "cell_type": "code",
   "execution_count": 8,
   "metadata": {},
   "outputs": [
    {
     "name": "stdout",
     "output_type": "stream",
     "text": [
      "Action space: 3\n",
      "Observation space: (12,)\n"
     ]
    }
   ],
   "source": [
    "env = gym.make(\"SlimeVolley-v0\")\n",
    "print(f\"Action space: {env.action_space.n}\")\n",
    "print(f\"Observation space: {env.observation_space.shape}\")\n",
    "env.close()"
   ]
  },
  {
   "cell_type": "markdown",
   "metadata": {},
   "source": [
    "# Device"
   ]
  },
  {
   "cell_type": "code",
   "execution_count": 9,
   "metadata": {},
   "outputs": [
    {
     "name": "stdout",
     "output_type": "stream",
     "text": [
      "Device used:  cuda:0\n"
     ]
    }
   ],
   "source": [
    "DEVICE = torch.device('cuda:0' if torch.cuda.is_available() else 'mps' if torch.backends.mps.is_available() else 'cpu')\n",
    "\n",
    "# Print the device as a check\n",
    "print(\"Device used: \", DEVICE)"
   ]
  },
  {
   "cell_type": "markdown",
   "metadata": {},
   "source": [
    "# Hyperparameters setup"
   ]
  },
  {
   "cell_type": "code",
   "execution_count": 10,
   "metadata": {},
   "outputs": [],
   "source": [
    "seed = 42\n",
    "batch_size = 5\n",
    "n_epochs = 4\n",
    "alpha = 0.0003\n",
    "lamda = 0.95\n",
    "gamma = 0.99\n",
    "clip = 0.2 # From the paper\n",
    "horizon = 20 # Number of steps before training the agent\n",
    "\n",
    "max_num_steps = 1000000\n",
    "num_test_runs = 10\n",
    "num_episodes_before_test_runs = 100\n",
    "threshold_test_return_to_update_opponents = 0.5\n",
    "time_scale = 90\n",
    "num_steps_before_save = 500000"
   ]
  },
  {
   "cell_type": "code",
   "execution_count": null,
   "metadata": {},
   "outputs": [],
   "source": [
    "def evaluate(env, agent1, agent2, num_eval_episodes):\n",
    "\n",
    "    # Set the model in evaluation mode\n",
    "    agent1.actor.eval()\n",
    "    agent2.actor.eval()\n",
    "    \n",
    "    # Run num_eval_episodes episodes and calculate the total return\n",
    "    total_return = 0\n",
    "    for _ in tqdm(range(num_eval_episodes)):\n",
    "\n",
    "        state, _ = env.reset()\n",
    "        done = False\n",
    "        while not done:\n",
    "            \n",
    "            with torch.no_grad():\n",
    "\n",
    "                # Select the actions for each agent\n",
    "                action1, _, _ = agent1.select_action(torch.FloatTensor(state).to(DEVICE), greedy=True)\n",
    "                action2, _, _ = agent2.select_action(torch.FloatTensor(state).to(DEVICE), greedy=True)\n",
    "            \n",
    "            # Step the environment forward\n",
    "            next_states, reward, terminated, truncated, _ = env.step(action1.item(), action2.item())\n",
    "\n",
    "            # Check if they're done\n",
    "            done = terminated or truncated\n",
    "            \n",
    "            # Add the individual agents' rewards to the total returns (Since they're the same for both agents)\n",
    "            total_return += reward\n",
    "\n",
    "            # Update the states\n",
    "            state = next_states\n",
    "    \n",
    "    # Set the model back in training mode\n",
    "    agent1.actor.train()\n",
    "    agent2.actor.train()\n",
    "\n",
    "    # Return the average return\n",
    "    return total_return / num_eval_episodes"
   ]
  },
  {
   "cell_type": "code",
   "execution_count": null,
   "metadata": {},
   "outputs": [],
   "source": [
    "def train(alpha, lamb, gamma, horizon, batch_size, n_epochs, clip, max_num_steps, num_test_runs, num_episodes_before_test_runs, threshold_test_return_to_update_opponents, time_scale, num_steps_before_save):\n",
    "\n",
    "    # Create the environment\n",
    "    env = gym.make(\"CartPole-v1\")\n",
    "    torch.manual_seed(seed)\n",
    "    # env.seed(seed)\n",
    "\n",
    "    # Create the player agents\n",
    "    agent1 = PPO_Agent(state_size=env.observation_space.shape,\n",
    "                        action_size=env.action_space.n,\n",
    "                        alpha = alpha,\n",
    "                        lamda = lamb,\n",
    "                        gamma = gamma,\n",
    "                        horizon = horizon,\n",
    "                        batch_size = batch_size,\n",
    "                        num_epoch = n_epochs,\n",
    "                        clip = clip,\n",
    "                        device=DEVICE)\n",
    "    \n",
    "    agent2 = PPO_Agent(state_size=env.observation_space.shape,\n",
    "                        action_size=env.action_space.n,\n",
    "                        alpha = alpha,\n",
    "                        lamda = lamb,\n",
    "                        gamma = gamma,\n",
    "                        horizon = horizon,\n",
    "                        batch_size = batch_size,\n",
    "                        num_epoch = n_epochs,\n",
    "                        clip = clip,\n",
    "                        device=DEVICE)\n",
    "\n",
    "    # Store the best test return\n",
    "    n_steps = 0\n",
    "    e = 0 # Episode number\n",
    "    # Train the agent\n",
    "    while n_steps < max_num_steps:\n",
    "\n",
    "        if n_steps > 0 and n_steps % num_steps_before_save == 0:\n",
    "            agent1.save_models(\"./Logging/PPO-CARTPOLE/Checkpoints\", 1, n_steps)\n",
    "            agent2.save_models(\"./Logging/PPO-CARTPOLE/Checkpoints\", 2, n_steps)\n",
    "        \n",
    "        if e % num_episodes_before_test_runs == 0:\n",
    "            average_test_return = evaluate(env, agent1, agent2, num_test_runs)\n",
    "            writer.add_scalar(\"AverageTestReturn-TrainStep\", average_test_return, n_steps)\n",
    "            writer.add_scalar(\"AverageTestReturn-TrainEpisode\", average_test_return, e)\n",
    "            writer.flush()\n",
    "\n",
    "        # Reset the environment, extracting the initial states of all 4 agents\n",
    "        state, _ = env.reset()\n",
    "        \n",
    "        # Run an episode\n",
    "        done = False\n",
    "        total_return = 0\n",
    "        while not done:  \n",
    "\n",
    "            # Select the actions for each agent\n",
    "            action1, prob1, val1 = agent1.select_action(torch.FloatTensor(state).to(DEVICE))\n",
    "            action2, prob2, val2 = agent1.select_action(torch.FloatTensor(state).to(DEVICE))\n",
    "\n",
    "            # Step the environment forward\n",
    "            next_state, reward, terminated, truncated, info = env.step(action1, action2)\n",
    "\n",
    "            # TODO: From here\n",
    "            \n",
    "            # Check if the episode is done\n",
    "            done = terminated or truncated\n",
    "\n",
    "            # Store the experience in the replay buffer\n",
    "            # Use terminated to only learn the end of the episode if the episode is done\n",
    "            agent.remember(next_state, action, prob, val, reward, terminated)\n",
    "\n",
    "            # Update the states\n",
    "            state = next_state\n",
    "\n",
    "            # Add the individual agents' rewards to the total returns (Since they're the same for both agents)\n",
    "            total_return += reward\n",
    "\n",
    "            # Train the agents if the number of steps is a multiple of the horizon\n",
    "            if n_steps > 0 and n_steps % horizon == 0:\n",
    "                agent.learn()\n",
    "\n",
    "            # Incremenent the number of steps\n",
    "            n_steps += 1\n",
    "        \n",
    "        # Increment the episode number\n",
    "        e += 1\n",
    "        \n",
    "        # Print the training returns\n",
    "        writer.add_scalar(\"TrainReturn-TrainStep\", total_return, n_steps)\n",
    "        writer.add_scalar(\"TrainReturn-TrainEpisode\", total_return, e)\n",
    "        writer.flush()"
   ]
  },
  {
   "cell_type": "code",
   "execution_count": null,
   "metadata": {},
   "outputs": [
    {
     "name": "stderr",
     "output_type": "stream",
     "text": [
      "100%|██████████| 10/10 [00:00<00:00, 75.00it/s]\n",
      "100%|██████████| 10/10 [00:00<00:00, 37.08it/s]\n",
      "100%|██████████| 10/10 [00:02<00:00,  4.22it/s]\n",
      "100%|██████████| 10/10 [00:05<00:00,  1.89it/s]\n",
      "100%|██████████| 10/10 [00:03<00:00,  3.05it/s]\n",
      "100%|██████████| 10/10 [00:01<00:00,  5.56it/s]\n",
      " 10%|█         | 1/10 [00:00<00:02,  3.42it/s]"
     ]
    }
   ],
   "source": [
    "train(alpha, lamda, gamma, horizon, batch_size, n_epochs, clip,\\\n",
    "       max_num_steps, num_test_runs, num_episodes_before_test_runs,\\\n",
    "          threshold_test_return_to_update_opponents, time_scale, num_steps_before_save)"
   ]
  }
 ],
 "metadata": {
  "kernelspec": {
   "display_name": "venv",
   "language": "python",
   "name": "python3"
  },
  "language_info": {
   "codemirror_mode": {
    "name": "ipython",
    "version": 3
   },
   "file_extension": ".py",
   "mimetype": "text/x-python",
   "name": "python",
   "nbconvert_exporter": "python",
   "pygments_lexer": "ipython3",
   "version": "3.10.4"
  }
 },
 "nbformat": 4,
 "nbformat_minor": 2
}
