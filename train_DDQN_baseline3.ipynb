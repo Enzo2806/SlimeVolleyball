{
 "cells": [
  {
   "cell_type": "markdown",
   "metadata": {},
   "source": [
    "# Imports"
   ]
  },
  {
   "cell_type": "code",
   "execution_count": 1,
   "metadata": {},
   "outputs": [],
   "source": [
    "import os\n",
    "import gym\n",
    "import slimevolleygym\n",
    "from slimevolleygym import BaselinePolicy\n",
    "import numpy as np\n",
    "\n",
    "from Models.DDQN.DDQN_Agent import DDQN_Agent\n",
    "from Models.DDQN.LPRB import LightPriorReplayBuffer\n",
    "\n",
    "import torch\n",
    "from utils import convert_to_vector, convert_to_value, LinearSchedule\n",
    "import types\n",
    "from torch.utils.tensorboard import SummaryWriter\n",
    "from datetime import datetime\n",
    "from IPython.display import clear_output"
   ]
  },
  {
   "cell_type": "markdown",
   "metadata": {},
   "source": [
    "# Setup environment"
   ]
  },
  {
   "cell_type": "code",
   "execution_count": 2,
   "metadata": {},
   "outputs": [
    {
     "name": "stdout",
     "output_type": "stream",
     "text": [
      "Action space: 3\n",
      "Observation space: (12,)\n"
     ]
    }
   ],
   "source": [
    "temp_env = gym.make(\"SlimeVolley-v0\")\n",
    "print(f\"Action space: {temp_env.action_space.n}\")\n",
    "print(f\"Observation space: {temp_env.observation_space.shape}\")\n",
    "temp_env.close()"
   ]
  },
  {
   "cell_type": "markdown",
   "metadata": {},
   "source": [
    "# Device"
   ]
  },
  {
   "cell_type": "code",
   "execution_count": 3,
   "metadata": {},
   "outputs": [
    {
     "name": "stdout",
     "output_type": "stream",
     "text": [
      "Device used:  mps\n"
     ]
    }
   ],
   "source": [
    "DEVICE = torch.device('cuda:0' if torch.cuda.is_available() else 'mps' if torch.backends.mps.is_available() else 'cpu')\n",
    "\n",
    "# Print the device as a check\n",
    "print(\"Device used: \", DEVICE)"
   ]
  },
  {
   "cell_type": "markdown",
   "metadata": {},
   "source": [
    "# Hyperparameters setup"
   ]
  },
  {
   "cell_type": "code",
   "execution_count": 4,
   "metadata": {},
   "outputs": [],
   "source": [
    "seed = 42                               # Seed for reproducibility\n",
    "hidden_layer_shape = 512                # Shape of the hidden layer\n",
    "lr_choices = [3e-4]                     # Learning rate of both actor and critic optimizers\n",
    "gamma = 0.99                            # Discount factor to be applied when calculating Rewards-To-Go\n",
    "batch_size = 256                        # Number of samples in each batch\n",
    "epsilon_init = 0.6                     # Initial value of epsilon\n",
    "epsilon_final = 0.01                   # Final value of epsilon\n",
    "epsilon_decay = 0.9999                 # Decay rate of epsilon \n",
    "buffer_size = 1000                     # Size of the replay buffer\n",
    "alpha = 0.6                            # Alpha value for prioritized experience replay\n",
    "beta_init = 0.4                        # Initial value of beta\n",
    "beta_final = 1.0                       # Final value of beta\n",
    "beta_gain = 0.001                      # Gain of beta\n",
    "replacement = True                    # Whether to use prioritized experience replay\n",
    "max_num_steps = 20000000               # Maximum number of steps to run the simulation\n",
    "num_test_runs_vs_baseline = 50         # Number of test runs against the baseline\n",
    "num_test_runs_vs_random = 10           # Number of test runs against the random agent\n",
    "num_iterations_before_test_runs = 1000 # Number of iterations before running the test runs\n",
    "num_iterations_before_save = 100       # Number of iterations before saving the model\n",
    "num_steps_before_update = 50            # Number of steps before updating the model"
   ]
  },
  {
   "cell_type": "code",
   "execution_count": 5,
   "metadata": {},
   "outputs": [],
   "source": [
    "# If agent2 = \"random\", then the agent is playing against a random policy\n",
    "def evaluate(env, agent1, num_eval_episodes, agent2=\"random\"):\n",
    "\n",
    "    # Set the model in evaluation mode\n",
    "    agent1.evaluation_mode()\n",
    "    \n",
    "    # Run num_eval_episodes episodes and calculate the total return\n",
    "    total_return = 0\n",
    "    for _ in range(num_eval_episodes):\n",
    "\n",
    "        state1 = env.reset()\n",
    "        state2 = state1\n",
    "        done = False\n",
    "        while not done:\n",
    "            \n",
    "            with torch.no_grad():\n",
    "\n",
    "                # Select the actions for each agent\n",
    "                action1 = agent1.select_action(state1, deterministic=True)\n",
    "\n",
    "                if agent2 == \"random\":\n",
    "                    action2 = convert_to_value(env.action_space.sample())\n",
    "                else:\n",
    "                    action2, _ = agent2.select_action(state2)\n",
    "            \n",
    "            # Step the environment forward\n",
    "            next_state1, reward, done, info = env.step(convert_to_vector(action1), otherAction=convert_to_vector(action2))\n",
    "            next_state2 = info['otherObs']\n",
    "                            \n",
    "            # Add the individual agents' rewards to the total returns (Since they're the same for both agents)\n",
    "            total_return += reward\n",
    "\n",
    "            # Update the states\n",
    "            state1 = next_state1\n",
    "            state2 = next_state2\n",
    "    \n",
    "    # Set the model back in training mode\n",
    "    agent1.training_mode()\n",
    "    # Return the average return\n",
    "    return total_return / num_eval_episodes"
   ]
  },
  {
   "cell_type": "code",
   "execution_count": 6,
   "metadata": {},
   "outputs": [],
   "source": [
    "# To retrieve a checkpoint, just pass the number of steps at which the checkpoint occurs in the logging dir\n",
    "def train(  hidden_layer_shape: int, device, lr, gamma, batch_size, epsilon_init, epsilon_final, epsilon_decay,\n",
    "            buffer_size, alpha, beta_init, beta_final, beta_gain, replacement,\n",
    "            seed, max_num_steps, num_test_runs_vs_baseline, num_test_runs_vs_random, num_iterations_before_test_runs, num_iterations_before_save, \n",
    "            num_steps_before_update, writer, logging_dir, HP_string, n_steps_checkpoint=None): \n",
    "\n",
    "    # Create the environment\n",
    "    env = slimevolleygym.SlimeVolleyEnv()\n",
    "    torch.manual_seed(seed)\n",
    "    env.seed(seed)\n",
    "\n",
    "    # Create the player agents (6 possible actions cause we don't consider pressing forward and backward at the same time)\n",
    "    agent1 = DDQN_Agent(\n",
    "        state_dim = env.observation_space.shape[0], \n",
    "        action_dim = 6, \n",
    "        hidden_layer_shape = hidden_layer_shape, \n",
    "        device = device, \n",
    "        lr = lr, \n",
    "        gamma = gamma, \n",
    "        batch_size = batch_size, \n",
    "        epsilon = epsilon_init\n",
    "    )\n",
    "\n",
    "    buffer = LightPriorReplayBuffer(\n",
    "        buffer_size = buffer_size, \n",
    "        state_dim = env.observation_space.shape[0], \n",
    "        alpha = alpha, \n",
    "        beta_init = beta_init, \n",
    "        replacement = replacement, \n",
    "        device = device\n",
    "    )\n",
    "    \n",
    "    exp_noise_scheduler = LinearSchedule(epsilon_decay, epsilon_init, epsilon_final)\n",
    "    beta_scheduler = LinearSchedule(beta_gain, beta_init, beta_final)\n",
    "    \n",
    "    # Create the baseline policy (Returns a value not a vector for the action to ensure uniformity)\n",
    "    agent2 = BaselinePolicy()\n",
    "    def select_action(self, state, greedy=False):\n",
    "        action = self.predict(state)\n",
    "        return convert_to_value(action), None\n",
    "\n",
    "    agent2.select_action = types.MethodType(select_action, agent2)\n",
    "\n",
    "    # Retrieve any checkpoints if necessary\n",
    "    if n_steps_checkpoint is not None:\n",
    "        agent1.load_models(logging_dir, 1, n_steps_checkpoint)\n",
    "        n_steps = n_steps_checkpoint-1\n",
    "    else:\n",
    "        n_steps = 0\n",
    "\n",
    "    i = 0 # Iteration number\n",
    "\n",
    "    # Train the agent\n",
    "    while n_steps < max_num_steps:\n",
    "\n",
    "        # Print the progress\n",
    "        clear_output(wait=True)\n",
    "        print(f\"{HP_string} Training step {n_steps}/{max_num_steps} ({n_steps/max_num_steps*100:.2f}%)\")\n",
    "\n",
    "        # Check if it's time to save the models\n",
    "        if i > 0 and (i+1) % num_iterations_before_save == 0:\n",
    "            agent1.save(logging_dir, 1, n_steps+1)\n",
    "        \n",
    "        if i % num_iterations_before_test_runs == 0:\n",
    "            \n",
    "            # Evaluate the agent against the baseline policy\n",
    "            average_test_return_baseline = evaluate(env, agent1, num_test_runs_vs_baseline, agent2)\n",
    "            writer.add_scalar(\"Average baseline test return - Training step\", average_test_return_baseline, n_steps)\n",
    "\n",
    "            # Evaluate the agent against a random policy\n",
    "            average_test_return_random = evaluate(env, agent1, num_test_runs_vs_random, \"random\")\n",
    "            writer.add_scalar(\"Average random test return - Training step\", average_test_return_random, n_steps)\n",
    "            # Flush both results\n",
    "            writer.flush()\n",
    "\n",
    "        # Reset the environment\n",
    "        s1 = env.reset()\n",
    "        s2 = s1\n",
    "        # Select the first action\n",
    "        action1, q_a = agent1.select_action(s1, deterministic=False)\n",
    "        action2, _= agent2.select_action(s2, greedy=True) # The opponent agent is always greedy\n",
    "        done = False\n",
    "\n",
    "        # Initialize the average return\n",
    "        average_return = 0\n",
    "        original_step = n_steps\n",
    "\n",
    "        while not done:\n",
    "            # Step the environment forward\n",
    "            s1_next, r, done, info = env.step(convert_to_vector(action1), otherAction=convert_to_vector(action2))\n",
    "            s2_next = info['otherObs']\n",
    "            \n",
    "            action1_next, q_a_next = agent1.select_action(s1_next, deterministic=False)\n",
    "            action2_next, _ = agent2.select_action(s2_next, greedy=True) # The opponent agent is always greedy\n",
    "\n",
    "            # Update the average return\n",
    "            average_return += r\n",
    "            # [s; a, q_a; r, dw, tr, s_next; a_next, q_a_next] have been all collected.\n",
    "            priority = torch.abs(r + (~done)*gamma*q_a_next - q_a) #scalar\n",
    "            buffer.add(s1, action1, r, done, priority) \n",
    "            # Update the states\n",
    "            action1 = action1_next\n",
    "            action2 = action2_next\n",
    "            q_a = q_a_next\n",
    "            # Update\n",
    "            if n_steps % num_steps_before_update == 0:\n",
    "                for _ in range(num_steps_before_update):\n",
    "                    agent1.train(buffer)\n",
    "                # parameter annealing\n",
    "                agent1.epsilon = exp_noise_scheduler.value(n_steps)\n",
    "                buffer.beta = beta_scheduler.value(n_steps)\n",
    "            n_steps += 1\n",
    "        \n",
    "        # Increment the iteration number\n",
    "        i += 1\n",
    "\n",
    "        # Log metrics\n",
    "        writer.add_scalar(\"Average baseline train return - Training step\", average_return, n_steps)\n",
    "        writer.add_scalar(\"Episode length - Training step\", n_steps - original_step, n_steps)\n",
    "        writer.flush()\n",
    "\n",
    "        average_return = 0\n",
    "\n",
    "    # Save the final version of the models\n",
    "    agent1.save_models(logging_dir, 1, n_steps+1)\n"
   ]
  },
  {
   "cell_type": "code",
   "execution_count": 7,
   "metadata": {},
   "outputs": [
    {
     "name": "stdout",
     "output_type": "stream",
     "text": [
      "0) Alpha: 0.0005 ==> Training step 587927/20000000 (2.94%)\n"
     ]
    }
   ],
   "source": [
    "# Create a string representing the HP combination\n",
    "HP_string = f\"{0}) Alpha: {5e-4} ==>\"\n",
    "\n",
    "# Create the writer\n",
    "logging_dir = f\"./Logging/DDQN-BASELINE/{datetime.now().strftime('%Y%m%d-%H%M%S')}-lr-{5e-4}\"\n",
    "writer = SummaryWriter(logging_dir)\n",
    "\n",
    "train(hidden_layer_shape = hidden_layer_shape,\n",
    "      device = DEVICE, \n",
    "      lr = lr_choices[0], \n",
    "      gamma = gamma, \n",
    "      batch_size = batch_size, \n",
    "      epsilon_init = epsilon_init, \n",
    "      epsilon_final = epsilon_final, \n",
    "      epsilon_decay = epsilon_decay,\n",
    "      buffer_size = buffer_size, \n",
    "      alpha = alpha, \n",
    "      beta_init = beta_init, \n",
    "      beta_final = beta_final, \n",
    "      beta_gain = beta_gain, \n",
    "      replacement = replacement,\n",
    "      seed = seed, \n",
    "      max_num_steps = max_num_steps, \n",
    "      num_test_runs_vs_baseline = num_test_runs_vs_baseline, \n",
    "      num_test_runs_vs_random = num_test_runs_vs_random, \n",
    "      num_iterations_before_test_runs = num_iterations_before_test_runs, \n",
    "      num_iterations_before_save = num_iterations_before_save, \n",
    "      num_steps_before_update = num_steps_before_update, \n",
    "      writer = writer, \n",
    "      logging_dir = logging_dir, \n",
    "      HP_string = HP_string\n",
    "      )"
   ]
  }
 ],
 "metadata": {
  "kernelspec": {
   "display_name": "venv",
   "language": "python",
   "name": "python3"
  },
  "language_info": {
   "codemirror_mode": {
    "name": "ipython",
    "version": 3
   },
   "file_extension": ".py",
   "mimetype": "text/x-python",
   "name": "python",
   "nbconvert_exporter": "python",
   "pygments_lexer": "ipython3",
   "version": "3.9.11"
  }
 },
 "nbformat": 4,
 "nbformat_minor": 2
}
