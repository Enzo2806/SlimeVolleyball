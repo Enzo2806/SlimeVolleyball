{
 "cells": [
  {
   "cell_type": "code",
   "execution_count": 1,
   "metadata": {},
   "outputs": [],
   "source": [
    "from Models.PPO.PPO_Agent import PPO_Agent\n",
    "import torch\n",
    "import slimevolleygym\n",
    "from slimevolleygym import BaselinePolicy\n",
    "from utils import convert_to_vector, convert_to_value\n",
    "import types\n",
    "import slimevolleygym\n",
    "import slimevolleygym.mlp as mlp\n",
    "from slimevolleygym.mlp import Model\n",
    "import json"
   ]
  },
  {
   "cell_type": "code",
   "execution_count": 2,
   "metadata": {},
   "outputs": [
    {
     "name": "stdout",
     "output_type": "stream",
     "text": [
      "Device used:  cuda:0\n"
     ]
    }
   ],
   "source": [
    "DEVICE = torch.device('cuda:0' if torch.cuda.is_available() else 'mps' if torch.backends.mps.is_available() else 'cpu')\n",
    "\n",
    "# Print the device as a check\n",
    "print(\"Device used: \", DEVICE)"
   ]
  },
  {
   "cell_type": "code",
   "execution_count": 3,
   "metadata": {},
   "outputs": [],
   "source": [
    "env = slimevolleygym.SlimeVolleyEnv()\n",
    "\n",
    "DEVICE = torch.device(\"cuda\" if torch.cuda.is_available() else \"cpu\")\n",
    "\n",
    "#\n",
    "# Pick one of the baselines below to use as the first agent\n",
    "#\n",
    "\n",
    "# # 1a- PPO Baseline\n",
    "# agent1 = PPO_Agent(12, 6, DEVICE, mlp_layers=[64, 64])\n",
    "# agent1.load_models(\"Logging/PPO-BASELINE/20240410-091619-lr-0.0003-entcoef-0-mlp-64-kl-0.03\", 1, 20003331)\n",
    "\n",
    "# 1b- PPO Selfplay\n",
    "agent1 = PPO_Agent(12, 6, DEVICE, mlp_layers=[64, 64])\n",
    "agent1.load_models(\"Logging/PPO-SELFPLAY/20240410-171658-lr-0.0003-entcoef-0\", 1, 20004667)\n",
    "\n",
    "# # 2- Genetic agent\n",
    "# agent1 = Model(mlp.games['slimevolleylite'])\n",
    "# with open('Logging/GENETIC-SELFPLAY/20240409-021844-numagents-128-totalnumgames-546000/game_546000') as f:\n",
    "#     d = json.load(f)\n",
    "#     agent1.set_model_params(d[0])\n",
    "# def select_action(self, state, greedy=False):\n",
    "#     action = self.predict(state, mean_mode=greedy)\n",
    "#     action = (action > 0).astype(int) # Anything positive means a 1, 0 or negative means a 0\n",
    "#     return convert_to_value(action), None\n",
    "# def evaluation_mode(self):\n",
    "#     pass\n",
    "# agent1.select_action = types.MethodType(select_action, agent1)\n",
    "# agent1.evaluation_mode = types.MethodType(evaluation_mode, agent1)\n",
    "\n",
    "#\n",
    "# Pick one of the snippets below to use as the second agent\n",
    "#\n",
    "\n",
    "# # 1a- PPO Baseline\n",
    "# agent1 = PPO_Agent(12, 6, DEVICE, mlp_layers=[64, 64])\n",
    "# agent1.load_models(\"Logging/PPO-BASELINE/20240410-091619-lr-0.0003-entcoef-0-mlp-64-kl-0.03.pt\", 1, 20003331)\n",
    "\n",
    "# # 1b- PPO Selfplay\n",
    "# agent2 = PPO_Agent(12, 6, DEVICE, mlp_layers=[64, 64])\n",
    "# agent2.load_models(\"Logging/PPO-SELFPLAY/20240410-171658-lr-0.0003-entcoef-0\", 1, 20004667)\n",
    "\n",
    "# 2- Baseline\n",
    "# agent2 = BaselinePolicy()\n",
    "# def select_action(self, state, greedy=False):\n",
    "#     action = self.predict(state)\n",
    "#     return convert_to_value(action), None\n",
    "# def evaluation_mode(self):\n",
    "#     pass\n",
    "# agent2.select_action = types.MethodType(select_action, agent2)\n",
    "# agent2.evaluation_mode = types.MethodType(evaluation_mode, agent2)\n",
    "\n",
    "# # 3- Random agent\n",
    "agent2 = BaselinePolicy()\n",
    "def select_action(self, state, greedy=False):\n",
    "    action = convert_to_value(env.action_space.sample())\n",
    "    return action, None\n",
    "def evaluation_mode(self):\n",
    "    pass\n",
    "agent2.select_action = types.MethodType(select_action, agent2)\n",
    "agent2.evaluation_mode = types.MethodType(evaluation_mode, agent2)\n",
    "\n",
    "# # 4- Genetic agent\n",
    "# agent2 = Model(mlp.games['slimevolleylite'])\n",
    "# with open('Logging/GENETIC-SELFPLAY/20240409-021844-numagents-128-totalnumgames-546000/game_546000') as f:\n",
    "#     d = json.load(f)\n",
    "#     agent2.set_model_params(d[0])"
   ]
  },
  {
   "cell_type": "code",
   "execution_count": 4,
   "metadata": {},
   "outputs": [
    {
     "ename": "KeyboardInterrupt",
     "evalue": "",
     "output_type": "error",
     "traceback": [
      "\u001b[1;31m---------------------------------------------------------------------------\u001b[0m",
      "\u001b[1;31mKeyboardInterrupt\u001b[0m                         Traceback (most recent call last)",
      "Cell \u001b[1;32mIn[4], line 15\u001b[0m\n\u001b[0;32m     11\u001b[0m done \u001b[38;5;241m=\u001b[39m \u001b[38;5;28;01mFalse\u001b[39;00m\n\u001b[0;32m     12\u001b[0m \u001b[38;5;28;01mwhile\u001b[39;00m \u001b[38;5;129;01mnot\u001b[39;00m done:\n\u001b[0;32m     13\u001b[0m \n\u001b[0;32m     14\u001b[0m     \u001b[38;5;66;03m# Render the environment\u001b[39;00m\n\u001b[1;32m---> 15\u001b[0m     \u001b[43menv\u001b[49m\u001b[38;5;241;43m.\u001b[39;49m\u001b[43mrender\u001b[49m\u001b[43m(\u001b[49m\u001b[43mmode\u001b[49m\u001b[38;5;241;43m=\u001b[39;49m\u001b[38;5;124;43m\"\u001b[39;49m\u001b[38;5;124;43mhuman\u001b[39;49m\u001b[38;5;124;43m\"\u001b[39;49m\u001b[43m)\u001b[49m\n\u001b[0;32m     17\u001b[0m     \u001b[38;5;28;01mwith\u001b[39;00m torch\u001b[38;5;241m.\u001b[39mno_grad():\n\u001b[0;32m     18\u001b[0m \n\u001b[0;32m     19\u001b[0m         \u001b[38;5;66;03m# Select the actions for each agent\u001b[39;00m\n\u001b[0;32m     20\u001b[0m         action1, _ \u001b[38;5;241m=\u001b[39m agent1\u001b[38;5;241m.\u001b[39mselect_action(state1, greedy\u001b[38;5;241m=\u001b[39m\u001b[38;5;28;01mTrue\u001b[39;00m)\n",
      "File \u001b[1;32mc:\\Users\\wassi\\projects\\gitrepos\\SlimeVolleyball\\env\\lib\\site-packages\\slimevolleygym\\slimevolley.py:868\u001b[0m, in \u001b[0;36mSlimeVolleyEnv.render\u001b[1;34m(self, mode, close)\u001b[0m\n\u001b[0;32m    865\u001b[0m   \u001b[38;5;28mself\u001b[39m\u001b[38;5;241m.\u001b[39mviewer \u001b[38;5;241m=\u001b[39m rendering\u001b[38;5;241m.\u001b[39mViewer(WINDOW_WIDTH, WINDOW_HEIGHT)\n\u001b[0;32m    867\u001b[0m \u001b[38;5;28mself\u001b[39m\u001b[38;5;241m.\u001b[39mgame\u001b[38;5;241m.\u001b[39mdisplay(\u001b[38;5;28mself\u001b[39m\u001b[38;5;241m.\u001b[39mviewer)\n\u001b[1;32m--> 868\u001b[0m \u001b[38;5;28;01mreturn\u001b[39;00m \u001b[38;5;28;43mself\u001b[39;49m\u001b[38;5;241;43m.\u001b[39;49m\u001b[43mviewer\u001b[49m\u001b[38;5;241;43m.\u001b[39;49m\u001b[43mrender\u001b[49m\u001b[43m(\u001b[49m\u001b[43mreturn_rgb_array\u001b[49m\u001b[43m \u001b[49m\u001b[38;5;241;43m=\u001b[39;49m\u001b[43m \u001b[49m\u001b[43mmode\u001b[49m\u001b[38;5;241;43m==\u001b[39;49m\u001b[38;5;124;43m'\u001b[39;49m\u001b[38;5;124;43mrgb_array\u001b[39;49m\u001b[38;5;124;43m'\u001b[39;49m\u001b[43m)\u001b[49m\n",
      "File \u001b[1;32mc:\\Users\\wassi\\projects\\gitrepos\\SlimeVolleyball\\env\\lib\\site-packages\\gym\\envs\\classic_control\\rendering.py:145\u001b[0m, in \u001b[0;36mViewer.render\u001b[1;34m(self, return_rgb_array)\u001b[0m\n\u001b[0;32m    143\u001b[0m     arr \u001b[38;5;241m=\u001b[39m arr\u001b[38;5;241m.\u001b[39mreshape(buffer\u001b[38;5;241m.\u001b[39mheight, buffer\u001b[38;5;241m.\u001b[39mwidth, \u001b[38;5;241m4\u001b[39m)\n\u001b[0;32m    144\u001b[0m     arr \u001b[38;5;241m=\u001b[39m arr[::\u001b[38;5;241m-\u001b[39m\u001b[38;5;241m1\u001b[39m, :, \u001b[38;5;241m0\u001b[39m:\u001b[38;5;241m3\u001b[39m]\n\u001b[1;32m--> 145\u001b[0m \u001b[38;5;28;43mself\u001b[39;49m\u001b[38;5;241;43m.\u001b[39;49m\u001b[43mwindow\u001b[49m\u001b[38;5;241;43m.\u001b[39;49m\u001b[43mflip\u001b[49m\u001b[43m(\u001b[49m\u001b[43m)\u001b[49m\n\u001b[0;32m    146\u001b[0m \u001b[38;5;28mself\u001b[39m\u001b[38;5;241m.\u001b[39monetime_geoms \u001b[38;5;241m=\u001b[39m []\n\u001b[0;32m    147\u001b[0m \u001b[38;5;28;01mreturn\u001b[39;00m arr \u001b[38;5;28;01mif\u001b[39;00m return_rgb_array \u001b[38;5;28;01melse\u001b[39;00m \u001b[38;5;28mself\u001b[39m\u001b[38;5;241m.\u001b[39misopen\n",
      "File \u001b[1;32mc:\\Users\\wassi\\projects\\gitrepos\\SlimeVolleyball\\env\\lib\\site-packages\\pyglet\\window\\win32\\__init__.py:379\u001b[0m, in \u001b[0;36mWin32Window.flip\u001b[1;34m(self)\u001b[0m\n\u001b[0;32m    377\u001b[0m     \u001b[38;5;28;01mif\u001b[39;00m \u001b[38;5;28mself\u001b[39m\u001b[38;5;241m.\u001b[39m_always_dwm \u001b[38;5;129;01mor\u001b[39;00m \u001b[38;5;28mself\u001b[39m\u001b[38;5;241m.\u001b[39m_dwm_composition_enabled():\n\u001b[0;32m    378\u001b[0m         \u001b[38;5;28;01mif\u001b[39;00m \u001b[38;5;28mself\u001b[39m\u001b[38;5;241m.\u001b[39m_interval:\n\u001b[1;32m--> 379\u001b[0m             \u001b[43m_dwmapi\u001b[49m\u001b[38;5;241;43m.\u001b[39;49m\u001b[43mDwmFlush\u001b[49m\u001b[43m(\u001b[49m\u001b[43m)\u001b[49m\n\u001b[0;32m    381\u001b[0m \u001b[38;5;28;01mif\u001b[39;00m \u001b[38;5;28mself\u001b[39m\u001b[38;5;241m.\u001b[39mstyle \u001b[38;5;129;01min\u001b[39;00m (\u001b[38;5;124m'\u001b[39m\u001b[38;5;124moverlay\u001b[39m\u001b[38;5;124m'\u001b[39m, \u001b[38;5;124m'\u001b[39m\u001b[38;5;124mtransparent\u001b[39m\u001b[38;5;124m'\u001b[39m):\n\u001b[0;32m    382\u001b[0m     \u001b[38;5;28mself\u001b[39m\u001b[38;5;241m.\u001b[39mupdate_transparency()\n",
      "\u001b[1;31mKeyboardInterrupt\u001b[0m: "
     ]
    }
   ],
   "source": [
    "# Set the agents to evaluation mode\n",
    "agent1.evaluation_mode()\n",
    "agent2.evaluation_mode()\n",
    "\n",
    "# Run num_eval_episodes episodes and calculate the total return\n",
    "total_return = 0\n",
    "for _ in range(10):\n",
    "\n",
    "    state1 = env.reset()\n",
    "    state2 = state1\n",
    "    done = False\n",
    "    while not done:\n",
    "\n",
    "        # Render the environment\n",
    "        env.render(mode=\"human\")\n",
    "        \n",
    "        with torch.no_grad():\n",
    "\n",
    "            # Select the actions for each agent\n",
    "            action1, _ = agent1.select_action(state1, greedy=True)\n",
    "            action2, _ = agent2.select_action(state2, greedy=True)\n",
    "        \n",
    "        # Step the environment forward\n",
    "        next_state1, reward, done, info = env.step(convert_to_vector(action1), otherAction=convert_to_vector(action2))\n",
    "        next_state2 = info['otherObs']\n",
    "        \n",
    "        # Add the individual agents' rewards to the total returns (Since they're the same for both agents)\n",
    "        total_return += reward\n",
    "\n",
    "        # Update the states\n",
    "        state1 = next_state1\n",
    "        state2 = next_state2"
   ]
  }
 ],
 "metadata": {
  "kernelspec": {
   "display_name": "env",
   "language": "python",
   "name": "python3"
  },
  "language_info": {
   "codemirror_mode": {
    "name": "ipython",
    "version": 3
   },
   "file_extension": ".py",
   "mimetype": "text/x-python",
   "name": "python",
   "nbconvert_exporter": "python",
   "pygments_lexer": "ipython3",
   "version": "3.10.4"
  }
 },
 "nbformat": 4,
 "nbformat_minor": 2
}
