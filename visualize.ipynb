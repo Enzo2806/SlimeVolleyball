{
 "cells": [
  {
   "cell_type": "code",
   "execution_count": 1,
   "metadata": {},
   "outputs": [],
   "source": [
    "from Models.PPO.PPO_Agent import PPO_Agent\n",
    "import torch\n",
    "import slimevolleygym\n",
    "from slimevolleygym import BaselinePolicy\n",
    "from utils import convert_to_vector\n",
    "import types"
   ]
  },
  {
   "cell_type": "code",
   "execution_count": 2,
   "metadata": {},
   "outputs": [
    {
     "name": "stdout",
     "output_type": "stream",
     "text": [
      "Device used:  cuda:0\n"
     ]
    }
   ],
   "source": [
    "DEVICE = torch.device('cuda:0' if torch.cuda.is_available() else 'mps' if torch.backends.mps.is_available() else 'cpu')\n",
    "\n",
    "# Print the device as a check\n",
    "print(\"Device used: \", DEVICE)"
   ]
  },
  {
   "cell_type": "code",
   "execution_count": 3,
   "metadata": {},
   "outputs": [],
   "source": [
    "env = slimevolleygym.SlimeVolleyEnv()\n",
    "\n",
    "DEVICE = torch.device(\"cuda\" if torch.cuda.is_available() else \"cpu\")\n",
    "\n",
    "agent1 = PPO_Agent(12, 6, DEVICE)\n",
    "# agent1.load_models(\"Logging/PPO-BASELINE/20240408-133534-lr-0.01-entcoef-0\", 1, 4003305)\n",
    "\n",
    "agent2 = BaselinePolicy()\n",
    "def select_action(self, state, greedy=False):\n",
    "    return self.predict(state), None\n",
    "def evaluation_mode(self):\n",
    "    pass\n",
    "agent2.select_action = types.MethodType(select_action, agent2)\n",
    "agent2.evaluation_mode = types.MethodType(evaluation_mode, agent2)\n",
    "use_baseline = True"
   ]
  },
  {
   "cell_type": "code",
   "execution_count": 4,
   "metadata": {},
   "outputs": [
    {
     "ename": "KeyboardInterrupt",
     "evalue": "",
     "output_type": "error",
     "traceback": [
      "\u001b[1;31m---------------------------------------------------------------------------\u001b[0m",
      "\u001b[1;31mKeyboardInterrupt\u001b[0m                         Traceback (most recent call last)",
      "Cell \u001b[1;32mIn[4], line 20\u001b[0m\n\u001b[0;32m     15\u001b[0m env\u001b[38;5;241m.\u001b[39mrender(mode\u001b[38;5;241m=\u001b[39m\u001b[38;5;124m\"\u001b[39m\u001b[38;5;124mhuman\u001b[39m\u001b[38;5;124m\"\u001b[39m)\n\u001b[0;32m     17\u001b[0m \u001b[38;5;28;01mwith\u001b[39;00m torch\u001b[38;5;241m.\u001b[39mno_grad():\n\u001b[0;32m     18\u001b[0m \n\u001b[0;32m     19\u001b[0m     \u001b[38;5;66;03m# Select the actions for each agent\u001b[39;00m\n\u001b[1;32m---> 20\u001b[0m     action1, _ \u001b[38;5;241m=\u001b[39m \u001b[43magent1\u001b[49m\u001b[38;5;241;43m.\u001b[39;49m\u001b[43mselect_action\u001b[49m\u001b[43m(\u001b[49m\u001b[43mstate1\u001b[49m\u001b[43m,\u001b[49m\u001b[43m \u001b[49m\u001b[43mgreedy\u001b[49m\u001b[38;5;241;43m=\u001b[39;49m\u001b[38;5;28;43;01mTrue\u001b[39;49;00m\u001b[43m)\u001b[49m\n\u001b[0;32m     21\u001b[0m     action2, _ \u001b[38;5;241m=\u001b[39m agent2\u001b[38;5;241m.\u001b[39mselect_action(state2, greedy\u001b[38;5;241m=\u001b[39m\u001b[38;5;28;01mTrue\u001b[39;00m)\n\u001b[0;32m     23\u001b[0m \u001b[38;5;66;03m# Step the environment forward\u001b[39;00m\n",
      "File \u001b[1;32mc:\\Users\\wassi\\projects\\gitrepos\\SlimeVolleyball\\Models\\PPO\\PPO_Agent.py:261\u001b[0m, in \u001b[0;36mPPO_Agent.select_action\u001b[1;34m(self, obs, greedy)\u001b[0m\n\u001b[0;32m    258\u001b[0m \u001b[38;5;66;03m# If we're testing, just return the deterministic action. Sampling should only be for training\u001b[39;00m\n\u001b[0;32m    259\u001b[0m \u001b[38;5;66;03m# as our \"exploration\" factor.\u001b[39;00m\n\u001b[0;32m    260\u001b[0m \u001b[38;5;28;01mif\u001b[39;00m greedy:\n\u001b[1;32m--> 261\u001b[0m     \u001b[38;5;28;01mreturn\u001b[39;00m \u001b[43mtorch\u001b[49m\u001b[38;5;241;43m.\u001b[39;49m\u001b[43margmax\u001b[49m\u001b[43m(\u001b[49m\u001b[43mprobs\u001b[49m\u001b[43m)\u001b[49m\u001b[38;5;241m.\u001b[39mitem(), \u001b[38;5;241m1\u001b[39m\n\u001b[0;32m    263\u001b[0m \u001b[38;5;66;03m# Return the sampled action and the log probability of that action in our distribution\u001b[39;00m\n\u001b[0;32m    264\u001b[0m \u001b[38;5;28;01mreturn\u001b[39;00m action\u001b[38;5;241m.\u001b[39mdetach()\u001b[38;5;241m.\u001b[39mitem(), log_prob\u001b[38;5;241m.\u001b[39mdetach()\n",
      "\u001b[1;31mKeyboardInterrupt\u001b[0m: "
     ]
    }
   ],
   "source": [
    "# Set the agents to evaluation mode\n",
    "agent1.evaluation_mode()\n",
    "agent2.evaluation_mode()\n",
    "\n",
    "# Run num_eval_episodes episodes and calculate the total return\n",
    "total_return = 0\n",
    "for _ in range(10):\n",
    "\n",
    "    state1 = env.reset()\n",
    "    state2 = state1\n",
    "    done = False\n",
    "    while not done:\n",
    "\n",
    "        # Render the environment\n",
    "        env.render(mode=\"human\")\n",
    "        \n",
    "        with torch.no_grad():\n",
    "\n",
    "            # Select the actions for each agent\n",
    "            action1, _ = agent1.select_action(state1, greedy=True)\n",
    "            action2, _ = agent2.select_action(state2, greedy=True)\n",
    "        \n",
    "        # Step the environment forward\n",
    "        next_state1, reward, done, info = env.step(convert_to_vector(action1), otherAction=convert_to_vector(action2))\n",
    "        next_state2 = info['otherObs']\n",
    "        \n",
    "        # Add the individual agents' rewards to the total returns (Since they're the same for both agents)\n",
    "        total_return += reward\n",
    "\n",
    "        # Update the states\n",
    "        state1 = next_state1\n",
    "        state2 = next_state2"
   ]
  }
 ],
 "metadata": {
  "kernelspec": {
   "display_name": "env",
   "language": "python",
   "name": "python3"
  },
  "language_info": {
   "codemirror_mode": {
    "name": "ipython",
    "version": 3
   },
   "file_extension": ".py",
   "mimetype": "text/x-python",
   "name": "python",
   "nbconvert_exporter": "python",
   "pygments_lexer": "ipython3",
   "version": "3.10.4"
  }
 },
 "nbformat": 4,
 "nbformat_minor": 2
}
