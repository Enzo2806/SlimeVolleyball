{
 "cells": [
  {
   "cell_type": "markdown",
   "metadata": {},
   "source": [
    "# Imports"
   ]
  },
  {
   "cell_type": "code",
   "execution_count": 1,
   "metadata": {},
   "outputs": [
    {
     "name": "stderr",
     "output_type": "stream",
     "text": [
      "c:\\Users\\wassi\\projects\\gitrepos\\SoccerTwos\\venv\\lib\\site-packages\\tqdm\\auto.py:21: TqdmWarning: IProgress not found. Please update jupyter and ipywidgets. See https://ipywidgets.readthedocs.io/en/stable/user_install.html\n",
      "  from .autonotebook import tqdm as notebook_tqdm\n"
     ]
    }
   ],
   "source": [
    "import gymnasium as gym\n",
    "import numpy as np\n",
    "from Models.DDQN.DDQN_Agent import DDQN_Agent\n",
    "import torch\n",
    "from tqdm.auto import tqdm\n",
    "from torch.utils.tensorboard import SummaryWriter\n",
    "from datetime import datetime\n",
    "\n",
    "# For tensorboard logging\n",
    "now = datetime.now()\n",
    "logdir = \"Logging/DDQN-CARTPOLE/Tensorboard/\" + now.strftime(\"%Y%m%d-%H%M%S\") + \"/\"\n",
    "writer = SummaryWriter(log_dir=logdir)"
   ]
  },
  {
   "cell_type": "markdown",
   "metadata": {},
   "source": [
    "# Setup environment"
   ]
  },
  {
   "cell_type": "code",
   "execution_count": 2,
   "metadata": {},
   "outputs": [
    {
     "name": "stdout",
     "output_type": "stream",
     "text": [
      "2\n",
      "4\n"
     ]
    }
   ],
   "source": [
    "env = gym.make(\"CartPole-v1\")\n",
    "print(env.action_space.n)\n",
    "print(env.observation_space.shape[0])"
   ]
  },
  {
   "cell_type": "markdown",
   "metadata": {},
   "source": [
    "# Device"
   ]
  },
  {
   "cell_type": "code",
   "execution_count": 3,
   "metadata": {},
   "outputs": [
    {
     "name": "stdout",
     "output_type": "stream",
     "text": [
      "Device used:  cuda:0\n"
     ]
    }
   ],
   "source": [
    "DEVICE = torch.device('cuda:0' if torch.cuda.is_available() else 'mps' if torch.backends.mps.is_available() else 'cpu')\n",
    "\n",
    "# Print the device as a check\n",
    "print(\"Device used: \", DEVICE)"
   ]
  },
  {
   "cell_type": "markdown",
   "metadata": {},
   "source": [
    "# Hyperparameters setup"
   ]
  },
  {
   "cell_type": "code",
   "execution_count": 4,
   "metadata": {},
   "outputs": [],
   "source": [
    "seed = 42\n",
    "batch_size = 64\n",
    "n_training_iterations = 5\n",
    "alpha = 0.06\n",
    "epsilon = 0.1\n",
    "epsilon_decay = 1\n",
    "min_epsilon = 0.05\n",
    "buffer_size = 1000\n",
    "gamma = 0.95\n",
    "horizon = 20 # Number of steps before training the agent\n",
    "\n",
    "max_num_steps = 1000000\n",
    "num_test_runs = 10\n",
    "num_episodes_before_test_runs = 100\n",
    "threshold_test_return_to_update_opponents = 0.5\n",
    "time_scale = 90\n",
    "num_steps_before_save = 500000"
   ]
  },
  {
   "cell_type": "code",
   "execution_count": 5,
   "metadata": {},
   "outputs": [],
   "source": [
    "def evaluate(env, agent, num_eval_episodes):\n",
    "    \n",
    "    # Set the model in evaluation mode\n",
    "    agent.q_network.eval()\n",
    "    \n",
    "    # Run num_eval_episodes episodes and calculate the total return\n",
    "    total_return = 0\n",
    "    for _ in tqdm(range(num_eval_episodes)):\n",
    "\n",
    "        state, _ = env.reset()\n",
    "        done = False\n",
    "        while not done:\n",
    "            \n",
    "            with torch.no_grad():\n",
    "\n",
    "                # Select the actions for each agent\n",
    "                action = agent.select_action(torch.FloatTensor(state).to(DEVICE), greedy=True)\n",
    "            \n",
    "            # Step the environment forward\n",
    "            next_states, reward, terminated, truncated, _ = env.step(action.item())\n",
    "\n",
    "            # Check if they're done\n",
    "            done = terminated or truncated\n",
    "            \n",
    "            # Add the individual agents' rewards to the total returns (Since they're the same for both agents)\n",
    "            total_return += reward\n",
    "\n",
    "            # Update the states\n",
    "            state = next_states\n",
    "    \n",
    "    # Set the model back in training mode\n",
    "    agent.q_network.train()\n",
    "\n",
    "    # Return the average return\n",
    "    return total_return / num_eval_episodes"
   ]
  },
  {
   "cell_type": "code",
   "execution_count": 6,
   "metadata": {},
   "outputs": [],
   "source": [
    "def train(alpha, epsilon, epsilon_decay, min_epsilon, buffer_size, gamma, horizon, batch_size, n_training_iterations, max_num_steps, num_test_runs, num_episodes_before_test_runs, num_steps_before_save):\n",
    "\n",
    "    # Create the environment\n",
    "    env = gym.make(\"CartPole-v1\")\n",
    "    torch.manual_seed(seed)\n",
    "    # env.seed(seed)\n",
    "\n",
    "    # Create the player agents\n",
    "    agent = DDQN_Agent(state_size=env.observation_space.shape[0], \n",
    "                       action_size=env.action_space.n, \n",
    "                       alpha=alpha, \n",
    "                       epsilon=epsilon, \n",
    "                       epsilon_decay=epsilon_decay, \n",
    "                       min_epsilon=min_epsilon, \n",
    "                       buffer_size=buffer_size, \n",
    "                       gamma=gamma, \n",
    "                       batch_size=batch_size,\n",
    "                       DEVICE=DEVICE)\n",
    "\n",
    "    # Store the best test return\n",
    "    n_steps = 0\n",
    "    e = 0 # Episode number\n",
    "    # Train the agent\n",
    "    while n_steps < max_num_steps:\n",
    "\n",
    "        if n_steps > 0 and n_steps % num_steps_before_save == 0:\n",
    "            agent.save_models(\"./Logging/DDQN-CARTPOLE/Checkpoints\", 1, n_steps)\n",
    "        \n",
    "        if e % num_episodes_before_test_runs == 0:\n",
    "\n",
    "            average_test_return = evaluate(env, agent, num_test_runs)\n",
    "            writer.add_scalar(\"AverageTestReturn-TrainStep\", average_test_return, n_steps)\n",
    "            writer.add_scalar(\"AverageTestReturn-TrainEpisode\", average_test_return, e)\n",
    "            writer.flush()\n",
    "\n",
    "        # Reset the environment, extracting the initial states of all 4 agents\n",
    "        state, _ = env.reset()\n",
    "\n",
    "        # Append the initial state to memory\n",
    "        agent.memory.states.append(state)\n",
    "        \n",
    "        # Run an episode\n",
    "        done = False\n",
    "        total_return = 0\n",
    "        while not done:  \n",
    "\n",
    "            # Select the actions for each agent\n",
    "            action = agent.select_action(torch.FloatTensor(state).to(DEVICE))\n",
    "\n",
    "            # Step the environment forward\n",
    "            next_state, reward, terminated, truncated, _ = env.step(action)\n",
    "            \n",
    "            # Check if the episode is done\n",
    "            done = terminated or truncated\n",
    "\n",
    "            # Store the experience in the replay buffer\n",
    "            agent.remember(next_state, action, reward, terminated)\n",
    "\n",
    "            # Update the states\n",
    "            state = next_state\n",
    "\n",
    "            # Add the individual agents' rewards to the total returns (Since they're the same for both agents)\n",
    "            total_return += reward\n",
    "\n",
    "            # Train the agents if the number of steps is a multiple of the horizon\n",
    "            if n_steps > 0 and n_steps % horizon == 0:\n",
    "                for _ in range(n_training_iterations):\n",
    "                    agent.training_iteration()\n",
    "\n",
    "            # Incremenent the number of steps\n",
    "            n_steps += 1\n",
    "        \n",
    "        # Update the epsilon\n",
    "        agent.decay_epsilon()\n",
    "\n",
    "        # Increment the episode number\n",
    "        e += 1\n",
    "        \n",
    "        # Print the training returns\n",
    "        writer.add_scalar(\"TrainReturn-TrainStep\", total_return, n_steps)\n",
    "        writer.add_scalar(\"TrainReturn-TrainEpisode\", total_return, e)\n",
    "\n",
    "        writer.flush()"
   ]
  },
  {
   "cell_type": "code",
   "execution_count": 7,
   "metadata": {},
   "outputs": [
    {
     "name": "stderr",
     "output_type": "stream",
     "text": [
      "c:\\Users\\wassi\\projects\\gitrepos\\SoccerTwos\\Models\\DDQN\\MemoryBuffer.py:28: UserWarning: Creating a tensor from a list of numpy.ndarrays is extremely slow. Please consider converting the list to a single numpy.ndarray with numpy.array() before converting to a tensor. (Triggered internally at C:\\actions-runner\\_work\\pytorch\\pytorch\\builder\\windows\\pytorch\\torch\\csrc\\utils\\tensor_new.cpp:278.)\n",
      "  return torch.Tensor(self.states)[idx], torch.LongTensor(self.actions)[idx], \\\n",
      "100%|██████████| 10/10 [00:00<00:00, 154.73it/s]\n",
      "100%|██████████| 10/10 [00:00<00:00, 150.33it/s]\n",
      "100%|██████████| 10/10 [00:00<00:00, 168.24it/s]\n",
      "100%|██████████| 10/10 [00:00<00:00, 156.31it/s]\n",
      "100%|██████████| 10/10 [00:00<00:00, 156.21it/s]\n",
      "100%|██████████| 10/10 [00:00<00:00, 165.84it/s]\n",
      "100%|██████████| 10/10 [00:00<00:00, 131.52it/s]\n",
      "100%|██████████| 10/10 [00:00<00:00, 187.66it/s]\n",
      "100%|██████████| 10/10 [00:00<00:00, 211.56it/s]\n",
      "100%|██████████| 10/10 [00:00<00:00, 207.65it/s]\n",
      "100%|██████████| 10/10 [00:00<00:00, 159.93it/s]\n",
      "100%|██████████| 10/10 [00:00<00:00, 172.86it/s]\n",
      "100%|██████████| 10/10 [00:00<00:00, 149.91it/s]\n",
      "100%|██████████| 10/10 [00:00<00:00, 175.28it/s]\n",
      "100%|██████████| 10/10 [00:00<00:00, 157.85it/s]\n",
      "100%|██████████| 10/10 [00:00<00:00, 190.88it/s]\n",
      "100%|██████████| 10/10 [00:00<00:00, 175.43it/s]\n",
      "100%|██████████| 10/10 [00:00<00:00, 168.65it/s]\n",
      "100%|██████████| 10/10 [00:00<00:00, 175.29it/s]\n",
      "100%|██████████| 10/10 [00:00<00:00, 195.98it/s]\n",
      "100%|██████████| 10/10 [00:00<00:00, 150.72it/s]\n",
      "100%|██████████| 10/10 [00:00<00:00, 171.18it/s]\n",
      "100%|██████████| 10/10 [00:00<00:00, 183.93it/s]\n",
      "100%|██████████| 10/10 [00:00<00:00, 135.57it/s]\n",
      "100%|██████████| 10/10 [00:00<00:00, 212.76it/s]\n",
      "100%|██████████| 10/10 [00:00<00:00, 212.70it/s]\n",
      "100%|██████████| 10/10 [00:00<00:00, 223.09it/s]\n",
      "100%|██████████| 10/10 [00:00<00:00, 221.75it/s]\n",
      "100%|██████████| 10/10 [00:00<00:00, 205.04it/s]\n",
      "100%|██████████| 10/10 [00:00<00:00, 211.74it/s]\n",
      "100%|██████████| 10/10 [00:00<00:00, 193.85it/s]\n",
      "100%|██████████| 10/10 [00:00<00:00, 183.27it/s]\n",
      "100%|██████████| 10/10 [00:00<00:00, 203.20it/s]\n",
      "100%|██████████| 10/10 [00:00<00:00, 216.62it/s]\n",
      "100%|██████████| 10/10 [00:00<00:00, 209.64it/s]\n",
      "100%|██████████| 10/10 [00:00<00:00, 219.37it/s]\n",
      "100%|██████████| 10/10 [00:00<00:00, 212.16it/s]\n",
      "100%|██████████| 10/10 [00:00<00:00, 206.33it/s]\n",
      "100%|██████████| 10/10 [00:00<00:00, 212.71it/s]\n",
      "100%|██████████| 10/10 [00:00<00:00, 225.27it/s]\n",
      "100%|██████████| 10/10 [00:00<00:00, 227.87it/s]\n",
      "100%|██████████| 10/10 [00:00<00:00, 208.74it/s]\n",
      "100%|██████████| 10/10 [00:00<00:00, 228.37it/s]\n",
      "100%|██████████| 10/10 [00:00<00:00, 232.35it/s]\n",
      "100%|██████████| 10/10 [00:00<00:00, 222.20it/s]\n",
      "100%|██████████| 10/10 [00:00<00:00, 217.66it/s]\n",
      "100%|██████████| 10/10 [00:00<00:00, 216.87it/s]\n",
      "100%|██████████| 10/10 [00:00<00:00, 216.61it/s]\n",
      "100%|██████████| 10/10 [00:00<00:00, 209.67it/s]\n",
      "100%|██████████| 10/10 [00:00<00:00, 213.03it/s]\n",
      "100%|██████████| 10/10 [00:00<00:00, 210.59it/s]\n",
      "100%|██████████| 10/10 [00:00<00:00, 169.23it/s]\n",
      "100%|██████████| 10/10 [00:00<00:00, 215.44it/s]\n",
      "100%|██████████| 10/10 [00:00<00:00, 217.93it/s]\n",
      "100%|██████████| 10/10 [00:00<00:00, 171.77it/s]\n",
      "100%|██████████| 10/10 [00:00<00:00, 195.46it/s]\n",
      "100%|██████████| 10/10 [00:00<00:00, 222.44it/s]\n",
      "100%|██████████| 10/10 [00:00<00:00, 228.30it/s]\n",
      "100%|██████████| 10/10 [00:00<00:00, 244.74it/s]\n",
      "100%|██████████| 10/10 [00:00<00:00, 243.87it/s]\n",
      "100%|██████████| 10/10 [00:00<00:00, 268.07it/s]\n",
      "100%|██████████| 10/10 [00:00<00:00, 246.51it/s]\n",
      "100%|██████████| 10/10 [00:00<00:00, 241.40it/s]\n",
      "100%|██████████| 10/10 [00:00<00:00, 184.35it/s]\n",
      "100%|██████████| 10/10 [00:00<00:00, 203.45it/s]\n",
      "100%|██████████| 10/10 [00:00<00:00, 223.16it/s]\n",
      "100%|██████████| 10/10 [00:00<00:00, 217.37it/s]\n",
      "100%|██████████| 10/10 [00:00<00:00, 231.72it/s]\n",
      "100%|██████████| 10/10 [00:00<00:00, 232.49it/s]\n",
      "100%|██████████| 10/10 [00:00<00:00, 221.91it/s]\n",
      "100%|██████████| 10/10 [00:00<00:00, 211.93it/s]\n",
      "100%|██████████| 10/10 [00:00<00:00, 203.14it/s]\n",
      "100%|██████████| 10/10 [00:00<00:00, 217.49it/s]\n",
      "100%|██████████| 10/10 [00:00<00:00, 226.72it/s]\n",
      "100%|██████████| 10/10 [00:00<00:00, 227.67it/s]\n",
      "100%|██████████| 10/10 [00:00<00:00, 236.65it/s]\n",
      "100%|██████████| 10/10 [00:00<00:00, 233.89it/s]\n",
      "100%|██████████| 10/10 [00:00<00:00, 204.73it/s]\n",
      "100%|██████████| 10/10 [00:00<00:00, 217.72it/s]\n",
      "100%|██████████| 10/10 [00:00<00:00, 196.09it/s]\n",
      "100%|██████████| 10/10 [00:00<00:00, 217.80it/s]\n",
      "100%|██████████| 10/10 [00:00<00:00, 222.25it/s]\n",
      "100%|██████████| 10/10 [00:00<00:00, 217.17it/s]\n",
      "100%|██████████| 10/10 [00:00<00:00, 215.77it/s]\n",
      "100%|██████████| 10/10 [00:00<00:00, 214.76it/s]\n",
      "100%|██████████| 10/10 [00:00<00:00, 156.81it/s]\n",
      "100%|██████████| 10/10 [00:00<00:00, 211.45it/s]\n",
      "100%|██████████| 10/10 [00:00<00:00, 217.65it/s]\n",
      "100%|██████████| 10/10 [00:00<00:00, 213.76it/s]\n",
      "100%|██████████| 10/10 [00:00<00:00, 197.51it/s]\n"
     ]
    },
    {
     "ename": "KeyboardInterrupt",
     "evalue": "",
     "output_type": "error",
     "traceback": [
      "\u001b[1;31m---------------------------------------------------------------------------\u001b[0m",
      "\u001b[1;31mKeyboardInterrupt\u001b[0m                         Traceback (most recent call last)",
      "Cell \u001b[1;32mIn[7], line 1\u001b[0m\n\u001b[1;32m----> 1\u001b[0m \u001b[43mtrain\u001b[49m\u001b[43m(\u001b[49m\u001b[43malpha\u001b[49m\u001b[38;5;241;43m=\u001b[39;49m\u001b[43malpha\u001b[49m\u001b[43m,\u001b[49m\u001b[43m \u001b[49m\n\u001b[0;32m      2\u001b[0m \u001b[43m      \u001b[49m\u001b[43mepsilon\u001b[49m\u001b[38;5;241;43m=\u001b[39;49m\u001b[43mepsilon\u001b[49m\u001b[43m,\u001b[49m\u001b[43m \u001b[49m\n\u001b[0;32m      3\u001b[0m \u001b[43m      \u001b[49m\u001b[43mepsilon_decay\u001b[49m\u001b[38;5;241;43m=\u001b[39;49m\u001b[43mepsilon_decay\u001b[49m\u001b[43m,\u001b[49m\u001b[43m \u001b[49m\n\u001b[0;32m      4\u001b[0m \u001b[43m      \u001b[49m\u001b[43mmin_epsilon\u001b[49m\u001b[38;5;241;43m=\u001b[39;49m\u001b[43mmin_epsilon\u001b[49m\u001b[43m,\u001b[49m\u001b[43m \u001b[49m\n\u001b[0;32m      5\u001b[0m \u001b[43m      \u001b[49m\u001b[43mbuffer_size\u001b[49m\u001b[38;5;241;43m=\u001b[39;49m\u001b[43mbuffer_size\u001b[49m\u001b[43m,\u001b[49m\u001b[43m \u001b[49m\n\u001b[0;32m      6\u001b[0m \u001b[43m      \u001b[49m\u001b[43mgamma\u001b[49m\u001b[38;5;241;43m=\u001b[39;49m\u001b[43mgamma\u001b[49m\u001b[43m,\u001b[49m\u001b[43m \u001b[49m\n\u001b[0;32m      7\u001b[0m \u001b[43m      \u001b[49m\u001b[43mhorizon\u001b[49m\u001b[38;5;241;43m=\u001b[39;49m\u001b[43mhorizon\u001b[49m\u001b[43m,\u001b[49m\u001b[43m \u001b[49m\n\u001b[0;32m      8\u001b[0m \u001b[43m      \u001b[49m\u001b[43mbatch_size\u001b[49m\u001b[38;5;241;43m=\u001b[39;49m\u001b[43mbatch_size\u001b[49m\u001b[43m,\u001b[49m\u001b[43m \u001b[49m\n\u001b[0;32m      9\u001b[0m \u001b[43m      \u001b[49m\u001b[43mn_training_iterations\u001b[49m\u001b[38;5;241;43m=\u001b[39;49m\u001b[43mn_training_iterations\u001b[49m\u001b[43m,\u001b[49m\u001b[43m \u001b[49m\n\u001b[0;32m     10\u001b[0m \u001b[43m      \u001b[49m\u001b[43mmax_num_steps\u001b[49m\u001b[38;5;241;43m=\u001b[39;49m\u001b[43mmax_num_steps\u001b[49m\u001b[43m,\u001b[49m\u001b[43m \u001b[49m\n\u001b[0;32m     11\u001b[0m \u001b[43m      \u001b[49m\u001b[43mnum_test_runs\u001b[49m\u001b[38;5;241;43m=\u001b[39;49m\u001b[43mnum_test_runs\u001b[49m\u001b[43m,\u001b[49m\u001b[43m \u001b[49m\n\u001b[0;32m     12\u001b[0m \u001b[43m      \u001b[49m\u001b[43mnum_episodes_before_test_runs\u001b[49m\u001b[38;5;241;43m=\u001b[39;49m\u001b[43mnum_episodes_before_test_runs\u001b[49m\u001b[43m,\u001b[49m\u001b[43m \u001b[49m\n\u001b[0;32m     13\u001b[0m \u001b[43m      \u001b[49m\u001b[43mnum_steps_before_save\u001b[49m\u001b[38;5;241;43m=\u001b[39;49m\u001b[43mnum_steps_before_save\u001b[49m\u001b[43m)\u001b[49m\n",
      "Cell \u001b[1;32mIn[6], line 48\u001b[0m, in \u001b[0;36mtrain\u001b[1;34m(alpha, epsilon, epsilon_decay, min_epsilon, buffer_size, gamma, horizon, batch_size, n_training_iterations, max_num_steps, num_test_runs, num_episodes_before_test_runs, num_steps_before_save)\u001b[0m\n\u001b[0;32m     44\u001b[0m total_return \u001b[38;5;241m=\u001b[39m \u001b[38;5;241m0\u001b[39m\n\u001b[0;32m     45\u001b[0m \u001b[38;5;28;01mwhile\u001b[39;00m \u001b[38;5;129;01mnot\u001b[39;00m done:  \n\u001b[0;32m     46\u001b[0m \n\u001b[0;32m     47\u001b[0m     \u001b[38;5;66;03m# Select the actions for each agent\u001b[39;00m\n\u001b[1;32m---> 48\u001b[0m     action \u001b[38;5;241m=\u001b[39m agent\u001b[38;5;241m.\u001b[39mselect_action(\u001b[43mtorch\u001b[49m\u001b[38;5;241;43m.\u001b[39;49m\u001b[43mFloatTensor\u001b[49m\u001b[43m(\u001b[49m\u001b[43mstate\u001b[49m\u001b[43m)\u001b[49m\u001b[38;5;241;43m.\u001b[39;49m\u001b[43mto\u001b[49m\u001b[43m(\u001b[49m\u001b[43mDEVICE\u001b[49m\u001b[43m)\u001b[49m)\n\u001b[0;32m     50\u001b[0m     \u001b[38;5;66;03m# Step the environment forward\u001b[39;00m\n\u001b[0;32m     51\u001b[0m     next_state, reward, terminated, truncated, _ \u001b[38;5;241m=\u001b[39m env\u001b[38;5;241m.\u001b[39mstep(action)\n",
      "\u001b[1;31mKeyboardInterrupt\u001b[0m: "
     ]
    }
   ],
   "source": [
    "train(alpha=alpha, \n",
    "      epsilon=epsilon, \n",
    "      epsilon_decay=epsilon_decay, \n",
    "      min_epsilon=min_epsilon, \n",
    "      buffer_size=buffer_size, \n",
    "      gamma=gamma, \n",
    "      horizon=horizon, \n",
    "      batch_size=batch_size, \n",
    "      n_training_iterations=n_training_iterations, \n",
    "      max_num_steps=max_num_steps, \n",
    "      num_test_runs=num_test_runs, \n",
    "      num_episodes_before_test_runs=num_episodes_before_test_runs, \n",
    "      num_steps_before_save=num_steps_before_save)"
   ]
  }
 ],
 "metadata": {
  "kernelspec": {
   "display_name": "venv",
   "language": "python",
   "name": "python3"
  },
  "language_info": {
   "codemirror_mode": {
    "name": "ipython",
    "version": 3
   },
   "file_extension": ".py",
   "mimetype": "text/x-python",
   "name": "python",
   "nbconvert_exporter": "python",
   "pygments_lexer": "ipython3",
   "version": "3.8.0"
  }
 },
 "nbformat": 4,
 "nbformat_minor": 2
}
